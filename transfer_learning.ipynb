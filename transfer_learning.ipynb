{
  "nbformat": 4,
  "nbformat_minor": 0,
  "metadata": {
    "colab": {
      "provenance": [],
      "toc_visible": true,
      "mount_file_id": "1df0pe5hJmyyOgRuG1IzyOfNTBQOh228m",
      "authorship_tag": "ABX9TyM+NmfP4TtaCRlNfQuI/bKW",
      "include_colab_link": true
    },
    "kernelspec": {
      "name": "python3",
      "display_name": "Python 3"
    },
    "accelerator": "GPU"
  },
  "cells": [
    {
      "cell_type": "markdown",
      "metadata": {
        "id": "view-in-github",
        "colab_type": "text"
      },
      "source": [
        "<a href=\"https://colab.research.google.com/github/NRmethun/ML-DL-Notebook/blob/main/transfer_learning.ipynb\" target=\"_parent\"><img src=\"https://colab.research.google.com/assets/colab-badge.svg\" alt=\"Open In Colab\"/></a>"
      ]
    },
    {
      "cell_type": "code",
      "metadata": {
        "id": "LbPJzS_ZSHVX"
      },
      "source": [
        "from tensorflow.keras.layers import Input, Lambda, Dense, Flatten,Conv2D ,Dropout\n",
        "from tensorflow.keras.models import Model\n",
        "from tensorflow.keras.applications.vgg19 import VGG19\n",
        "from tensorflow.keras.applications.vgg19 import preprocess_input\n",
        "from tensorflow.keras.preprocessing import image\n",
        "from tensorflow.keras.preprocessing.image import ImageDataGenerator,load_img\n",
        "from tensorflow.keras.models import Sequential\n",
        "import numpy as np\n",
        "from glob import glob\n",
        "import matplotlib.pyplot as plt"
      ],
      "execution_count": null,
      "outputs": []
    },
    {
      "cell_type": "code",
      "metadata": {
        "id": "S_fmUhZlVnJH"
      },
      "source": [
        "IMAGE_SIZE = [500, 500]\n",
        "\n",
        "path = '/content/drive/My Drive/Datasets/Bangla_English'\n",
        "train_path = '/content/drive/My Drive/Datasets/Bangla_English/Train'\n",
        "valid_path ='/content/drive/My Drive/Datasets/Bangla_English/Validation'\n",
        "test_path =  '/content/drive/My Drive/Datasets/Bangla_English/Test'\n",
        "\n",
        "\n",
        "\n",
        "\n",
        "# train_data_dir = '/content/drive/My Drive/Datasets/Bangla_English/Train'\n",
        "# validation_data_dir = '/content/drive/My Drive/Datasets/Bangla_English/Validation'\n",
        "\n",
        "# test_data_dir = '/content/drive/My Drive/Datasets/Bangla_English/Test'"
      ],
      "execution_count": null,
      "outputs": []
    },
    {
      "cell_type": "code",
      "metadata": {
        "id": "BwCXAryrV-Dp"
      },
      "source": [
        "mobilnet = VGG19(input_shape=IMAGE_SIZE + [3], weights='imagenet', include_top=False)"
      ],
      "execution_count": null,
      "outputs": []
    },
    {
      "cell_type": "code",
      "metadata": {
        "id": "edzn0PU0WJui"
      },
      "source": [
        "for layer in mobilnet.layers:\n",
        "    layer.trainable = False"
      ],
      "execution_count": null,
      "outputs": []
    },
    {
      "cell_type": "code",
      "metadata": {
        "id": "k3GuCIcsWThC"
      },
      "source": [
        "# useful for getting number of output classes\n",
        "folders = glob('/content/drive/My Drive/Datasets/Bangla_English/Train/*')"
      ],
      "execution_count": null,
      "outputs": []
    },
    {
      "cell_type": "code",
      "metadata": {
        "id": "nvoUy5IUXHpf"
      },
      "source": [
        "folders\n",
        "last_output =  mobilnet.output"
      ],
      "execution_count": null,
      "outputs": []
    },
    {
      "cell_type": "code",
      "metadata": {
        "id": "TYuYsGzTXLW4"
      },
      "source": [
        "from tensorflow.keras.optimizers import RMSprop\n",
        "\n",
        "# Flatten the output layer to 1 dimension\n",
        "x = Flatten()(last_output)\n",
        "# Add a fully connected layer with 1,024 hidden units and ReLU activation\n",
        "x = Dense(1024, activation='relu')(x)\n",
        "# Add a dropout rate of 0.2\n",
        "x = Dropout(0.2)(x)\n",
        "# Add a final sigmoid layer for classification\n",
        "x = Dense  (2, activation='softmax')(x)\n",
        "\n",
        "model = Model( mobilnet.input, x)\n",
        "\n",
        "model.compile(optimizer = RMSprop(lr=0.0001),\n",
        "              loss = 'categorical_crossentropy',\n",
        "              metrics = ['accuracy'])"
      ],
      "execution_count": null,
      "outputs": []
    },
    {
      "cell_type": "code",
      "metadata": {
        "id": "b_La92-70l7f"
      },
      "source": [
        "import tensorflow as tf\n",
        "from tensorflow import keras\n",
        "from tensorflow.keras import layers\n",
        "from keras.layers import Dropout\n",
        "\n",
        "num_classes = 2\n",
        "\n",
        "# model = keras.Sequential()\n",
        "# model.add(Dense(100, activation=keras.layers.LeakyReLU(alpha=0.3) ))\n",
        "# model.add(Dropout(0.5))\n",
        "# model.add(Dense(50, activation=keras.layers.LeakyReLU(alpha=0.3)))\n",
        "# model.add(Dropout(0.3))\n",
        "# model.add(Dense(num_classes, activation='softmax'))"
      ],
      "execution_count": null,
      "outputs": []
    },
    {
      "cell_type": "code",
      "metadata": {
        "id": "2cWhKXbRXl1f"
      },
      "source": [
        "# prediction = Dense(len(folders), activation='softmax')(x)\n",
        "\n",
        "# create a model object\n",
        "#model = Model(inputs=mobilnet.input, outputs=prediction)"
      ],
      "execution_count": null,
      "outputs": []
    },
    {
      "cell_type": "code",
      "metadata": {
        "id": "upa0TnZXXqn-",
        "colab": {
          "base_uri": "https://localhost:8080/",
          "height": 1000
        },
        "outputId": "2d50841b-35dc-4e3e-fd0a-12f1badfe557"
      },
      "source": [
        "model.summary()"
      ],
      "execution_count": null,
      "outputs": [
        {
          "output_type": "stream",
          "text": [
            "Model: \"functional_5\"\n",
            "_________________________________________________________________\n",
            "Layer (type)                 Output Shape              Param #   \n",
            "=================================================================\n",
            "input_3 (InputLayer)         [(None, 500, 500, 3)]     0         \n",
            "_________________________________________________________________\n",
            "block1_conv1 (Conv2D)        (None, 500, 500, 64)      1792      \n",
            "_________________________________________________________________\n",
            "block1_conv2 (Conv2D)        (None, 500, 500, 64)      36928     \n",
            "_________________________________________________________________\n",
            "block1_pool (MaxPooling2D)   (None, 250, 250, 64)      0         \n",
            "_________________________________________________________________\n",
            "block2_conv1 (Conv2D)        (None, 250, 250, 128)     73856     \n",
            "_________________________________________________________________\n",
            "block2_conv2 (Conv2D)        (None, 250, 250, 128)     147584    \n",
            "_________________________________________________________________\n",
            "block2_pool (MaxPooling2D)   (None, 125, 125, 128)     0         \n",
            "_________________________________________________________________\n",
            "block3_conv1 (Conv2D)        (None, 125, 125, 256)     295168    \n",
            "_________________________________________________________________\n",
            "block3_conv2 (Conv2D)        (None, 125, 125, 256)     590080    \n",
            "_________________________________________________________________\n",
            "block3_conv3 (Conv2D)        (None, 125, 125, 256)     590080    \n",
            "_________________________________________________________________\n",
            "block3_conv4 (Conv2D)        (None, 125, 125, 256)     590080    \n",
            "_________________________________________________________________\n",
            "block3_pool (MaxPooling2D)   (None, 62, 62, 256)       0         \n",
            "_________________________________________________________________\n",
            "block4_conv1 (Conv2D)        (None, 62, 62, 512)       1180160   \n",
            "_________________________________________________________________\n",
            "block4_conv2 (Conv2D)        (None, 62, 62, 512)       2359808   \n",
            "_________________________________________________________________\n",
            "block4_conv3 (Conv2D)        (None, 62, 62, 512)       2359808   \n",
            "_________________________________________________________________\n",
            "block4_conv4 (Conv2D)        (None, 62, 62, 512)       2359808   \n",
            "_________________________________________________________________\n",
            "block4_pool (MaxPooling2D)   (None, 31, 31, 512)       0         \n",
            "_________________________________________________________________\n",
            "block5_conv1 (Conv2D)        (None, 31, 31, 512)       2359808   \n",
            "_________________________________________________________________\n",
            "block5_conv2 (Conv2D)        (None, 31, 31, 512)       2359808   \n",
            "_________________________________________________________________\n",
            "block5_conv3 (Conv2D)        (None, 31, 31, 512)       2359808   \n",
            "_________________________________________________________________\n",
            "block5_conv4 (Conv2D)        (None, 31, 31, 512)       2359808   \n",
            "_________________________________________________________________\n",
            "block5_pool (MaxPooling2D)   (None, 15, 15, 512)       0         \n",
            "_________________________________________________________________\n",
            "flatten_2 (Flatten)          (None, 115200)            0         \n",
            "_________________________________________________________________\n",
            "dense_4 (Dense)              (None, 1024)              117965824 \n",
            "_________________________________________________________________\n",
            "dropout_2 (Dropout)          (None, 1024)              0         \n",
            "_________________________________________________________________\n",
            "dense_5 (Dense)              (None, 2)                 2050      \n",
            "=================================================================\n",
            "Total params: 137,992,258\n",
            "Trainable params: 117,967,874\n",
            "Non-trainable params: 20,024,384\n",
            "_________________________________________________________________\n"
          ],
          "name": "stdout"
        }
      ]
    },
    {
      "cell_type": "code",
      "metadata": {
        "id": "bW6e0YGpXua-"
      },
      "source": [
        "from tensorflow.keras.layers import MaxPooling2D"
      ],
      "execution_count": null,
      "outputs": []
    },
    {
      "cell_type": "code",
      "metadata": {
        "id": "LmNoNOsWX6df"
      },
      "source": [
        "model.compile(\n",
        "  loss='categorical_crossentropy',\n",
        "  optimizer='adam',\n",
        "  metrics=['accuracy']\n",
        ")\n"
      ],
      "execution_count": null,
      "outputs": []
    },
    {
      "cell_type": "code",
      "metadata": {
        "id": "PQ2-L3LZYyJT"
      },
      "source": [
        "from tensorflow.keras.preprocessing.image import ImageDataGenerator\n",
        "\n",
        "train_datagen = ImageDataGenerator(rescale=1./255,\n",
        "      rotation_range=40,\n",
        "      width_shift_range=0.2,\n",
        "      height_shift_range=0.2,\n",
        "      shear_range=0.2,\n",
        "\n",
        "\n",
        "      fill_mode='nearest')\n",
        "\n",
        "test_datagen = ImageDataGenerator(rescale = 1./255 ,\n",
        "                                  rotation_range=40)\n",
        ""
      ],
      "execution_count": null,
      "outputs": []
    },
    {
      "cell_type": "code",
      "metadata": {
        "id": "IyaZ-JWsY4J0",
        "colab": {
          "base_uri": "https://localhost:8080/",
          "height": 36
        },
        "outputId": "e53de3b7-b82a-466d-a8a3-2b33643977af"
      },
      "source": [
        "training_set = train_datagen.flow_from_directory(train_path,\n",
        "                                                 target_size = (500,500),\n",
        "                                                 batch_size = 32,\n",
        "                                               #  color_mode=\"grayscale\",\n",
        "                                                 class_mode = 'categorical')"
      ],
      "execution_count": null,
      "outputs": [
        {
          "output_type": "stream",
          "text": [
            "Found 227 images belonging to 2 classes.\n"
          ],
          "name": "stdout"
        }
      ]
    },
    {
      "cell_type": "code",
      "metadata": {
        "id": "EkvLnkadZJOL",
        "colab": {
          "base_uri": "https://localhost:8080/",
          "height": 36
        },
        "outputId": "7547e7d6-a7e1-43e5-d3ce-a554efb5226c"
      },
      "source": [
        "len(training_set)"
      ],
      "execution_count": null,
      "outputs": [
        {
          "output_type": "execute_result",
          "data": {
            "text/plain": [
              "8"
            ]
          },
          "metadata": {
            "tags": []
          },
          "execution_count": 74
        }
      ]
    },
    {
      "cell_type": "code",
      "metadata": {
        "id": "NiKIALidZPiU",
        "colab": {
          "base_uri": "https://localhost:8080/",
          "height": 36
        },
        "outputId": "2dc140cc-1e56-40e7-d02b-998824916f4b"
      },
      "source": [
        "test_set = test_datagen.flow_from_directory(valid_path,\n",
        "                                            target_size = (500,500),\n",
        "                                            batch_size = 32,\n",
        "                                            # color_mode=\"grayscale\",\n",
        "                                            class_mode = 'categorical')"
      ],
      "execution_count": null,
      "outputs": [
        {
          "output_type": "stream",
          "text": [
            "Found 110 images belonging to 2 classes.\n"
          ],
          "name": "stdout"
        }
      ]
    },
    {
      "cell_type": "code",
      "metadata": {
        "id": "Y8r1KsHiyzko",
        "colab": {
          "base_uri": "https://localhost:8080/",
          "height": 36
        },
        "outputId": "981220e8-4e32-4fb1-f325-4c1ef26924a0"
      },
      "source": [
        "len(test_set)"
      ],
      "execution_count": null,
      "outputs": [
        {
          "output_type": "execute_result",
          "data": {
            "text/plain": [
              "4"
            ]
          },
          "metadata": {
            "tags": []
          },
          "execution_count": 71
        }
      ]
    },
    {
      "cell_type": "code",
      "metadata": {
        "id": "qyc3g0HGZgdK",
        "colab": {
          "base_uri": "https://localhost:8080/",
          "height": 1000
        },
        "outputId": "5451c33d-ca06-46ea-ac26-8b8c672d0c65"
      },
      "source": [
        "# fit the model\n",
        "# Run the cell. It will take some time to execute\n",
        "r = model.fit_generator(\n",
        "  training_set,\n",
        "  validation_data=test_set,\n",
        "  epochs=50,\n",
        "  steps_per_epoch=len(training_set),\n",
        "  validation_steps=len(test_set)\n",
        ")"
      ],
      "execution_count": null,
      "outputs": [
        {
          "output_type": "stream",
          "text": [
            "Epoch 1/50\n",
            "8/8 [==============================] - 89s 11s/step - loss: 28.9314 - accuracy: 0.5330 - val_loss: 8.6163 - val_accuracy: 0.6364\n",
            "Epoch 2/50\n",
            "8/8 [==============================] - 80s 10s/step - loss: 4.5006 - accuracy: 0.7885 - val_loss: 7.8995 - val_accuracy: 0.7000\n",
            "Epoch 3/50\n",
            "8/8 [==============================] - 81s 10s/step - loss: 3.2254 - accuracy: 0.8767 - val_loss: 9.8427 - val_accuracy: 0.6636\n",
            "Epoch 4/50\n",
            "8/8 [==============================] - 80s 10s/step - loss: 2.5436 - accuracy: 0.8811 - val_loss: 2.1736 - val_accuracy: 0.8545\n",
            "Epoch 5/50\n",
            "8/8 [==============================] - 81s 10s/step - loss: 1.5063 - accuracy: 0.8855 - val_loss: 0.8576 - val_accuracy: 0.8818\n",
            "Epoch 6/50\n",
            "8/8 [==============================] - 80s 10s/step - loss: 1.2385 - accuracy: 0.9383 - val_loss: 1.0880 - val_accuracy: 0.9000\n",
            "Epoch 7/50\n",
            "8/8 [==============================] - 81s 10s/step - loss: 0.6628 - accuracy: 0.9427 - val_loss: 1.9979 - val_accuracy: 0.8273\n",
            "Epoch 8/50\n",
            "8/8 [==============================] - 80s 10s/step - loss: 0.7445 - accuracy: 0.9163 - val_loss: 0.5504 - val_accuracy: 0.9091\n",
            "Epoch 9/50\n",
            "8/8 [==============================] - 80s 10s/step - loss: 0.4504 - accuracy: 0.9383 - val_loss: 1.0854 - val_accuracy: 0.9000\n",
            "Epoch 10/50\n",
            "8/8 [==============================] - 80s 10s/step - loss: 0.4909 - accuracy: 0.9648 - val_loss: 0.3875 - val_accuracy: 0.9273\n",
            "Epoch 11/50\n",
            "8/8 [==============================] - 81s 10s/step - loss: 0.0590 - accuracy: 0.9780 - val_loss: 0.4246 - val_accuracy: 0.9545\n",
            "Epoch 12/50\n",
            "8/8 [==============================] - 80s 10s/step - loss: 0.2944 - accuracy: 0.9692 - val_loss: 0.2606 - val_accuracy: 0.9364\n",
            "Epoch 13/50\n",
            "8/8 [==============================] - 88s 11s/step - loss: 0.0470 - accuracy: 0.9868 - val_loss: 0.0737 - val_accuracy: 0.9818\n",
            "Epoch 14/50\n",
            "8/8 [==============================] - 88s 11s/step - loss: 0.1145 - accuracy: 0.9824 - val_loss: 0.3236 - val_accuracy: 0.9455\n",
            "Epoch 15/50\n",
            "8/8 [==============================] - 80s 10s/step - loss: 0.1207 - accuracy: 0.9824 - val_loss: 0.1195 - val_accuracy: 0.9455\n",
            "Epoch 16/50\n",
            "8/8 [==============================] - 80s 10s/step - loss: 0.0743 - accuracy: 0.9824 - val_loss: 0.3344 - val_accuracy: 0.9727\n",
            "Epoch 17/50\n",
            "8/8 [==============================] - 88s 11s/step - loss: 0.1703 - accuracy: 0.9868 - val_loss: 0.1682 - val_accuracy: 0.9818\n",
            "Epoch 18/50\n",
            "8/8 [==============================] - 80s 10s/step - loss: 0.1091 - accuracy: 0.9824 - val_loss: 0.1279 - val_accuracy: 0.9727\n",
            "Epoch 19/50\n",
            "8/8 [==============================] - 80s 10s/step - loss: 0.0021 - accuracy: 1.0000 - val_loss: 0.1754 - val_accuracy: 0.9818\n",
            "Epoch 20/50\n",
            "8/8 [==============================] - 89s 11s/step - loss: 0.0127 - accuracy: 0.9956 - val_loss: 0.1833 - val_accuracy: 0.9364\n",
            "Epoch 21/50\n",
            "8/8 [==============================] - 81s 10s/step - loss: 0.1155 - accuracy: 0.9824 - val_loss: 0.0925 - val_accuracy: 0.9909\n",
            "Epoch 22/50\n",
            "8/8 [==============================] - 81s 10s/step - loss: 0.0086 - accuracy: 0.9956 - val_loss: 0.0571 - val_accuracy: 0.9818\n",
            "Epoch 23/50\n",
            "8/8 [==============================] - 81s 10s/step - loss: 0.2201 - accuracy: 0.9604 - val_loss: 0.5465 - val_accuracy: 0.9000\n",
            "Epoch 24/50\n",
            "8/8 [==============================] - 81s 10s/step - loss: 0.2860 - accuracy: 0.9515 - val_loss: 5.6350 - val_accuracy: 0.5818\n",
            "Epoch 25/50\n",
            "8/8 [==============================] - 81s 10s/step - loss: 1.5948 - accuracy: 0.8899 - val_loss: 0.5694 - val_accuracy: 0.8727\n",
            "Epoch 26/50\n",
            "8/8 [==============================] - 81s 10s/step - loss: 0.0517 - accuracy: 0.9824 - val_loss: 1.3789 - val_accuracy: 0.8455\n",
            "Epoch 27/50\n",
            "8/8 [==============================] - 81s 10s/step - loss: 0.3265 - accuracy: 0.9515 - val_loss: 0.4486 - val_accuracy: 0.9182\n",
            "Epoch 28/50\n",
            "8/8 [==============================] - 82s 10s/step - loss: 0.1467 - accuracy: 0.9692 - val_loss: 0.2319 - val_accuracy: 0.9545\n",
            "Epoch 29/50\n",
            "8/8 [==============================] - 91s 11s/step - loss: 0.0598 - accuracy: 0.9868 - val_loss: 0.2091 - val_accuracy: 0.9455\n",
            "Epoch 30/50\n",
            "8/8 [==============================] - 89s 11s/step - loss: 0.0955 - accuracy: 0.9780 - val_loss: 0.0280 - val_accuracy: 0.9909\n",
            "Epoch 31/50\n",
            "8/8 [==============================] - 81s 10s/step - loss: 0.0465 - accuracy: 0.9956 - val_loss: 0.1267 - val_accuracy: 0.9727\n",
            "Epoch 32/50\n",
            "8/8 [==============================] - 81s 10s/step - loss: 0.0318 - accuracy: 0.9868 - val_loss: 0.1182 - val_accuracy: 0.9727\n",
            "Epoch 33/50\n",
            "8/8 [==============================] - 81s 10s/step - loss: 0.0757 - accuracy: 0.9824 - val_loss: 0.1472 - val_accuracy: 0.9364\n",
            "Epoch 34/50\n",
            "8/8 [==============================] - 81s 10s/step - loss: 0.0354 - accuracy: 0.9868 - val_loss: 0.0810 - val_accuracy: 0.9545\n",
            "Epoch 35/50\n",
            "8/8 [==============================] - 89s 11s/step - loss: 0.0190 - accuracy: 0.9956 - val_loss: 0.0574 - val_accuracy: 0.9818\n",
            "Epoch 36/50\n",
            "8/8 [==============================] - 81s 10s/step - loss: 0.0327 - accuracy: 0.9824 - val_loss: 0.0654 - val_accuracy: 0.9727\n",
            "Epoch 37/50\n",
            "8/8 [==============================] - 79s 10s/step - loss: 0.0261 - accuracy: 0.9912 - val_loss: 0.0203 - val_accuracy: 0.9909\n",
            "Epoch 38/50\n",
            "8/8 [==============================] - 80s 10s/step - loss: 0.0451 - accuracy: 0.9868 - val_loss: 0.0685 - val_accuracy: 0.9818\n",
            "Epoch 39/50\n",
            "8/8 [==============================] - 80s 10s/step - loss: 0.0016 - accuracy: 1.0000 - val_loss: 0.0933 - val_accuracy: 0.9818\n",
            "Epoch 40/50\n",
            "8/8 [==============================] - 81s 10s/step - loss: 0.0148 - accuracy: 0.9912 - val_loss: 0.0530 - val_accuracy: 0.9909\n",
            "Epoch 41/50\n",
            "8/8 [==============================] - 82s 10s/step - loss: 0.0050 - accuracy: 0.9956 - val_loss: 0.0247 - val_accuracy: 0.9909\n",
            "Epoch 42/50\n",
            "8/8 [==============================] - 82s 10s/step - loss: 0.0433 - accuracy: 0.9956 - val_loss: 0.0073 - val_accuracy: 1.0000\n",
            "Epoch 43/50\n",
            "8/8 [==============================] - 81s 10s/step - loss: 0.0213 - accuracy: 0.9912 - val_loss: 0.0398 - val_accuracy: 0.9909\n",
            "Epoch 44/50\n",
            "8/8 [==============================] - 81s 10s/step - loss: 0.0196 - accuracy: 0.9868 - val_loss: 0.0862 - val_accuracy: 0.9818\n",
            "Epoch 45/50\n",
            "8/8 [==============================] - 90s 11s/step - loss: 0.0155 - accuracy: 0.9912 - val_loss: 0.0456 - val_accuracy: 0.9909\n",
            "Epoch 46/50\n",
            "8/8 [==============================] - 81s 10s/step - loss: 0.0074 - accuracy: 0.9956 - val_loss: 0.0199 - val_accuracy: 0.9909\n",
            "Epoch 47/50\n",
            "8/8 [==============================] - 81s 10s/step - loss: 0.0021 - accuracy: 1.0000 - val_loss: 0.1273 - val_accuracy: 0.9636\n",
            "Epoch 48/50\n",
            "8/8 [==============================] - 81s 10s/step - loss: 0.0173 - accuracy: 0.9956 - val_loss: 0.0185 - val_accuracy: 0.9909\n",
            "Epoch 49/50\n",
            "8/8 [==============================] - 81s 10s/step - loss: 0.0098 - accuracy: 0.9956 - val_loss: 0.0505 - val_accuracy: 0.9818\n",
            "Epoch 50/50\n",
            "8/8 [==============================] - 81s 10s/step - loss: 1.6651e-04 - accuracy: 1.0000 - val_loss: 0.0466 - val_accuracy: 0.9818\n"
          ],
          "name": "stdout"
        }
      ]
    },
    {
      "cell_type": "code",
      "metadata": {
        "id": "-U5Nt1g4nDoA",
        "colab": {
          "base_uri": "https://localhost:8080/",
          "height": 499
        },
        "outputId": "aae44141-0336-4145-e39d-d48ce7ae1336"
      },
      "source": [
        "acc = r.history['accuracy']\n",
        "val_acc = r.history['val_accuracy']\n",
        "\n",
        "loss=r.history['loss']\n",
        "val_loss=r.history['val_loss']\n",
        "\n",
        "epochs_range = range(50)\n",
        "\n",
        "plt.figure(figsize=(8, 8))\n",
        "plt.subplot(1, 2, 1)\n",
        "plt.plot(epochs_range, acc, label='Training Accuracy')\n",
        "plt.plot(epochs_range, val_acc, label='Validation Accuracy')\n",
        "plt.legend(loc='lower right')\n",
        "plt.title('Training and Validation Accuracy')\n",
        "\n",
        "plt.subplot(1, 2, 2)\n",
        "plt.plot(epochs_range, loss, label='Training Loss')\n",
        "plt.plot(epochs_range, val_loss, label='Validation Loss')\n",
        "plt.legend(loc='upper right')\n",
        "plt.title('Training and Validation Loss')\n",
        "plt.show()\n"
      ],
      "execution_count": null,
      "outputs": [
        {
          "output_type": "display_data",
          "data": {
            "image/png": "[encoded data removed]",
            "text/plain": [
              "<Figure size 576x576 with 2 Axes>"
            ]
          },
          "metadata": {
            "tags": [],
            "needs_background": "light"
          }
        }
      ]
    },
    {
      "cell_type": "code",
      "metadata": {
        "id": "29BM5GLv9vNP",
        "colab": {
          "base_uri": "https://localhost:8080/",
          "height": 73
        },
        "outputId": "7d3667d2-f461-4944-8ee8-e05ef76598cc"
      },
      "source": [
        "test_settt = test_datagen.flow_from_directory(test_path,\n",
        "                                            target_size = (500, 500),\n",
        "                                            batch_size = 32,\n",
        "                                            class_mode = 'categorical')\n",
        "model.evaluate(test_settt )"
      ],
      "execution_count": null,
      "outputs": [
        {
          "output_type": "stream",
          "text": [
            "Found 66 images belonging to 2 classes.\n",
            "3/3 [==============================] - 9s 3s/step - loss: 0.0082 - accuracy: 1.0000\n"
          ],
          "name": "stdout"
        },
        {
          "output_type": "execute_result",
          "data": {
            "text/plain": [
              "[0.008242800831794739, 1.0]"
            ]
          },
          "metadata": {
            "tags": []
          },
          "execution_count": 80
        }
      ]
    },
    {
      "cell_type": "code",
      "metadata": {
        "id": "4Cskl3tRnDie",
        "colab": {
          "resources": {
            "http://localhost:8080/nbextensions/google.colab/files.js": {
              "data": "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",
              "ok": true,
              "headers": [
                [
                  "content-type",
                  "application/javascript"
                ]
              ],
              "status": 200,
              "status_text": "OK"
            }
          },
          "base_uri": "https://localhost:8080/",
          "height": 113
        },
        "outputId": "7962e8e8-e6cd-42e4-ba88-404a09bd3e28"
      },
      "source": [
        "import numpy as np\n",
        "from google.colab import files\n",
        "from keras.preprocessing import image\n",
        "\n",
        "uploaded = files.upload()\n",
        "\n",
        "for fn in uploaded.keys():\n",
        "\n",
        "  # predicting images\n",
        "  path = fn\n",
        "  img = image.load_img(path, target_size=(500, 500))\n",
        "  x = image.img_to_array(img)\n",
        "  x = np.expand_dims(x, axis=0)\n",
        "\n",
        "  images = np.vstack([x])\n",
        "  classes = model.predict(images, batch_size=10)\n",
        "  print(fn)\n",
        "  print(classes)"
      ],
      "execution_count": null,
      "outputs": [
        {
          "output_type": "display_data",
          "data": {
            "text/html": [
              "\n",
              "     <input type=\"file\" id=\"files-32771554-bc11-4406-b756-1dcf67e1624e\" name=\"files[]\" multiple disabled\n",
              "        style=\"border:none\" />\n",
              "     <output id=\"result-32771554-bc11-4406-b756-1dcf67e1624e\">\n",
              "      Upload widget is only available when the cell has been executed in the\n",
              "      current browser session. Please rerun this cell to enable.\n",
              "      </output>\n",
              "      <script src=\"/nbextensions/google.colab/files.js\"></script> "
            ],
            "text/plain": [
              "<IPython.core.display.HTML object>"
            ]
          },
          "metadata": {
            "tags": []
          }
        },
        {
          "output_type": "stream",
          "text": [
            "Saving 20200721_001413.jpg to 20200721_001413.jpg\n",
            "20200721_001413.jpg\n",
            "[[7.7192025e-33 1.0000000e+00]]\n"
          ],
          "name": "stdout"
        }
      ]
    },
    {
      "cell_type": "code",
      "metadata": {
        "id": "gwHCq4la2J0I"
      },
      "source": [],
      "execution_count": null,
      "outputs": []
    }
  ]
}