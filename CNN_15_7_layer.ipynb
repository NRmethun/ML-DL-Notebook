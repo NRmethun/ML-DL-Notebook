{
  "nbformat": 4,
  "nbformat_minor": 0,
  "metadata": {
    "colab": {
      "provenance": [],
      "mount_file_id": "1c0os2XTQaKC9-LjXy1XIZd1b9jZGTiZC",
      "authorship_tag": "ABX9TyNQnefL5p/tsokdqbj5vICz",
      "include_colab_link": true
    },
    "kernelspec": {
      "name": "python3",
      "display_name": "Python 3"
    },
    "accelerator": "GPU"
  },
  "cells": [
    {
      "cell_type": "markdown",
      "metadata": {
        "id": "view-in-github",
        "colab_type": "text"
      },
      "source": [
        "<a href=\"https://colab.research.google.com/github/NRmethun/ML-DL-Notebook/blob/main/CNN_15_7_layer.ipynb\" target=\"_parent\"><img src=\"https://colab.research.google.com/assets/colab-badge.svg\" alt=\"Open In Colab\"/></a>"
      ]
    },
    {
      "cell_type": "code",
      "metadata": {
        "id": "k3uaoAyGoQoR"
      },
      "source": [
        "from tensorflow.keras.layers import Input, Lambda, Dense, Flatten,Conv2D ,Dropout\n",
        "from tensorflow.keras.models import Model\n",
        "from tensorflow.keras.applications.vgg19 import VGG19\n",
        "from tensorflow.keras.applications.resnet50 import preprocess_input\n",
        "from tensorflow.keras.preprocessing import image\n",
        "from tensorflow.keras.preprocessing.image import ImageDataGenerator,load_img\n",
        "from tensorflow.keras.models import Sequential\n",
        "from tensorflow.keras.layers import Dense, Conv2D, MaxPool2D , Flatten\n",
        "\n",
        "import numpy as np\n",
        "from glob import glob\n",
        "import matplotlib.pyplot as plt"
      ],
      "execution_count": null,
      "outputs": []
    },
    {
      "cell_type": "code",
      "metadata": {
        "id": "d5-UOaFQoWSu"
      },
      "source": [
        "\n",
        "#IMAGE_SIZE =[150,150]\n",
        "# train_dir = '/content/drive/MyDrive/Carrot_synthetic_data/Train'\n",
        "# validation_dir  ='/content/drive/My Drive/Carrot_synthetic_data/Validation'\n",
        "train_dir = '/content/drive/MyDrive/Carrot-deffodil/DATASET/Train'\n",
        "validation_dir  ='/content/drive/MyDrive/Carrot-deffodil/DATASET/Validation'\n"
      ],
      "execution_count": null,
      "outputs": []
    },
    {
      "cell_type": "code",
      "metadata": {
        "id": "KoO4-C-kojvf"
      },
      "source": [
        "\n",
        "# mobilnet = VGG19(input_shape=(300, 300, 3),\n",
        "#                  weights='imagenet',\n",
        "#                  #weights=None ,\n",
        "#                  include_top=False)\n",
        "\n",
        "\n",
        "\n",
        "# for layer in mobilnet.layers:\n",
        "#   layer.trainable = False"
      ],
      "execution_count": null,
      "outputs": []
    },
    {
      "cell_type": "code",
      "metadata": {
        "id": "7_TaXolJDaNI"
      },
      "source": [
        "\n",
        "# model = Sequential()\n",
        "# model.add(Conv2D(input_shape=(300,300,3),filters=64,kernel_size=(3,3),padding=\"same\", activation=\"relu\"))\n",
        "# model.add(Conv2D(filters=32,kernel_size=(3,3),padding=\"same\", activation=\"relu\"))\n",
        "# model.add(Conv2D(filters=32,kernel_size=(3,3),padding=\"same\", activation=\"relu\"))\n",
        "# model.add(MaxPool2D(pool_size=(2,2),strides=(2,2)))\n",
        "\n",
        "# model.add(Conv2D(filters=64,kernel_size=(3,3),padding=\"same\", activation=\"relu\"))\n",
        "# model.add(Conv2D(filters=64,kernel_size=(3,3),padding=\"same\", activation=\"relu\"))\n",
        "\n",
        "# model.add(MaxPool2D(pool_size=(2,2),strides=(2,2)))\n",
        "# model.add(Conv2D(filters=128, kernel_size=(3,3), padding=\"same\", activation=\"relu\"))\n",
        "# model.add(Conv2D(filters=128, kernel_size=(3,3), padding=\"same\", activation=\"relu\"))\n",
        "# model.add(MaxPool2D(pool_size=(2,2),strides=(2,2)))\n",
        "# model.add(Conv2D(filters=256, kernel_size=(3,3), padding=\"same\", activation=\"relu\"))\n",
        "# model.add(Conv2D(filters=256, kernel_size=(3,3), padding=\"same\", activation=\"relu\"))\n",
        "# model.add(Conv2D(filters=256, kernel_size=(3,3), padding=\"same\", activation=\"relu\"))\n",
        "# model.add(MaxPool2D(pool_size=(2,2),strides=(2,2)))\n",
        "# model.add(Conv2D(filters=512, kernel_size=(3,3), padding=\"same\", activation=\"relu\"))\n",
        "# model.add(Conv2D(filters=512, kernel_size=(3,3), padding=\"same\", activation=\"relu\"))\n",
        "# model.add(Conv2D(filters=512, kernel_size=(3,3), padding=\"same\", activation=\"relu\"))\n",
        "# model.add(MaxPool2D(pool_size=(2,2),strides=(2,2)))\n",
        "# model.add(Conv2D(filters=512, kernel_size=(3,3), padding=\"same\", activation=\"relu\"))\n",
        "# model.add(Conv2D(filters=512, kernel_size=(3,3), padding=\"same\", activation=\"relu\"))\n",
        "# model.add(Conv2D(filters=512, kernel_size=(3,3), padding=\"same\", activation=\"relu\"))\n",
        "# model.add(MaxPool2D(pool_size=(2,2),strides=(2,2)))\n",
        "\n",
        "\n",
        "\n",
        "# model.add(Flatten())\n",
        "# model.add(Dense(units=4096,activation=\"relu\"))\n",
        "# model.add(Dense(units=4096,activation=\"relu\"))\n",
        "# model.add(Dense(units=4, activation=\"softmax\"))"
      ],
      "execution_count": null,
      "outputs": []
    },
    {
      "cell_type": "code",
      "metadata": {
        "id": "Y1ToxfryiplD"
      },
      "source": [
        "\n",
        "model = Sequential()\n",
        "model.add(Conv2D(input_shape=(300,300,3),filters=64,kernel_size=(3,3),padding=\"same\", activation=\"relu\"))\n",
        "model.add(Conv2D(filters=32,kernel_size=(3,3),padding=\"same\", activation=\"relu\"))\n",
        "model.add(Conv2D(filters=32,kernel_size=(3,3),padding=\"same\", activation=\"relu\"))\n",
        "model.add(MaxPool2D(pool_size=(2,2),strides=(2,2)))\n",
        "\n",
        "model.add(Conv2D(filters=64,kernel_size=(3,3),padding=\"same\", activation=\"relu\"))\n",
        "model.add(Conv2D(filters=64,kernel_size=(3,3),padding=\"same\", activation=\"relu\"))\n",
        "\n",
        "model.add(MaxPool2D(pool_size=(2,2),strides=(2,2)))\n",
        "model.add(Conv2D(filters=128, kernel_size=(3,3), padding=\"same\", activation=\"relu\"))\n",
        "model.add(Conv2D(filters=128, kernel_size=(3,3), padding=\"same\", activation=\"relu\"))\n",
        "model.add(MaxPool2D(pool_size=(2,2),strides=(2,2)))\n",
        "\n",
        "model.add(Conv2D(filters=256, kernel_size=(3,3), padding=\"same\", activation=\"relu\"))\n",
        "model.add(Conv2D(filters=256, kernel_size=(3,3), padding=\"same\", activation=\"relu\"))\n",
        "# model.add(Conv2D(filters=256, kernel_size=(3,3), padding=\"same\", activation=\"relu\"))\n",
        "model.add(MaxPool2D(pool_size=(2,2),strides=(2,2)))\n",
        "model.add(Conv2D(filters=512, kernel_size=(3,3), padding=\"same\", activation=\"relu\"))\n",
        "model.add(Conv2D(filters=512, kernel_size=(3,3), padding=\"same\", activation=\"relu\"))\n",
        "# model.add(Conv2D(filters=512, kernel_size=(3,3), padding=\"same\", activation=\"relu\"))\n",
        "model.add(MaxPool2D(pool_size=(2,2),strides=(2,2)))\n",
        "model.add(Conv2D(filters=512, kernel_size=(3,3), padding=\"same\", activation=\"relu\"))\n",
        "model.add(Conv2D(filters=512, kernel_size=(3,3), padding=\"same\", activation=\"relu\"))\n",
        "# model.add(Conv2D(filters=512, kernel_size=(3,3), padding=\"same\", activation=\"relu\"))\n",
        "model.add(MaxPool2D(pool_size=(2,2),strides=(2,2)))\n",
        "\n",
        "model.add(Conv2D(filters=512, kernel_size=(3,3), padding=\"same\", activation=\"relu\"))\n",
        "model.add(Conv2D(filters=512, kernel_size=(3,3), padding=\"same\", activation=\"relu\"))\n",
        "model.add(MaxPool2D(pool_size=(2,2),strides=(2,2)))\n",
        "\n",
        "model.add(Flatten())\n",
        "model.add(Dense(units=512,activation=\"relu\"))\n",
        "model.add(Dense(units=256,activation=\"relu\"))\n",
        "model.add(Dense(units=4, activation=\"softmax\"))"
      ],
      "execution_count": null,
      "outputs": []
    },
    {
      "cell_type": "code",
      "metadata": {
        "id": "GD56eQAapVHc"
      },
      "source": [
        "# last_output = mobilnet.output\n",
        "# from tensorflow.keras import layers\n"
      ],
      "execution_count": null,
      "outputs": []
    },
    {
      "cell_type": "code",
      "metadata": {
        "id": "bu2jrLGHmBZ6"
      },
      "source": [
        "# from tensorflow.keras.optimizers import RMSprop\n",
        "\n",
        "# # Flatten the output layer to 1 dimension\n",
        "# x = layers.Flatten()(last_output)\n",
        "# # Add a fully connected layer with 1,024 hidden units and ReLU activation\n",
        "# x = layers.Dense(1024, activation='relu')(x)\n",
        "# # Add a dropout rate of 0.2\n",
        "# x = layers.Dropout(0.3)(x)\n",
        "# x = layers.Dense(512, activation='relu')(x)\n",
        "# x = layers.Dropout(0.2)(x)\n",
        "# x = layers.Dense(32, activation='relu')(x)\n",
        "\n",
        "# # Add a final sigmoid layer for classification\n",
        "# x = layers.Dense  (4, activation='softmax')(x)\n",
        "\n",
        "# model = Model( mobilnet.input, x)\n",
        "\n",
        "# model.compile(optimizer = RMSprop(lr=0.0001),\n",
        "#               loss = 'categorical_crossentropy',\n",
        "#               metrics = ['accuracy'])"
      ],
      "execution_count": null,
      "outputs": []
    },
    {
      "cell_type": "code",
      "metadata": {
        "id": "56SQ8l3EioUL"
      },
      "source": [],
      "execution_count": null,
      "outputs": []
    },
    {
      "cell_type": "code",
      "metadata": {
        "colab": {
          "base_uri": "https://localhost:8080/"
        },
        "id": "vZyTH2ilDvjR",
        "outputId": "4e8de7eb-359a-4358-aa07-7f27e2159f3d"
      },
      "source": [
        "# model = Model( mobilnet.input, x)\n",
        "from tensorflow.keras.optimizers import RMSprop\n",
        "\n",
        "model.compile(optimizer = RMSprop(lr=0.0001),\n",
        "              loss = 'categorical_crossentropy',\n",
        "              metrics = ['accuracy'])"
      ],
      "execution_count": null,
      "outputs": [
        {
          "output_type": "stream",
          "text": [
            "/usr/local/lib/python3.7/dist-packages/tensorflow/python/keras/optimizer_v2/optimizer_v2.py:375: UserWarning: The `lr` argument is deprecated, use `learning_rate` instead.\n",
            "  \"The `lr` argument is deprecated, use `learning_rate` instead.\")\n"
          ],
          "name": "stderr"
        }
      ]
    },
    {
      "cell_type": "code",
      "metadata": {
        "id": "jiaoxfbOqLaA"
      },
      "source": [
        "# from tensorflow.keras.optimizers import RMSprop\n",
        "\n",
        "# # Flatten the output layer to 1 dimension\n",
        "# x = Flatten()(last_output)\n",
        "# # Add a fully connected layer with 1,024 hidden units and ReLU activation\n",
        "# x = Dense(1024, activation='relu')(x)\n",
        "# # Add a dropout rate of 0.2\n",
        "# x = Dropout(0.2)(x)\n",
        "# # Add a final sigmoid layer for classification\n",
        "# x = Dense  (4, activation='softmax')(x)\n",
        "\n",
        "# model = Model( mobilnet.input, x)\n",
        "\n",
        "# model.compile(optimizer = RMSprop(lr=0.0001),\n",
        "#               loss = 'categorical_crossentropy',\n",
        "#               metrics = ['accuracy'])"
      ],
      "execution_count": null,
      "outputs": []
    },
    {
      "cell_type": "code",
      "metadata": {
        "id": "cNMkmeMWqQCC"
      },
      "source": [
        "# train_dir = '/content/drive/My Drive/New_carrot/Train'\n",
        "# validation_dir  ='/content/drive/My Drive/New_carrot/Validate'\n",
        "\n",
        "from tensorflow.keras.preprocessing.image import ImageDataGenerator\n",
        "\n",
        "import os"
      ],
      "execution_count": null,
      "outputs": []
    },
    {
      "cell_type": "code",
      "metadata": {
        "id": "i-IStWSxrIsl"
      },
      "source": [
        "train_datagen = ImageDataGenerator(rescale = 1./255.,\n",
        "                                   rotation_range = 40,\n",
        "                                   width_shift_range = 0.2,\n",
        "                                   height_shift_range = 0.2,\n",
        "                                   shear_range = 0.2,\n",
        "\n",
        "                                   horizontal_flip = True)\n",
        "\n",
        "test_datagen = ImageDataGenerator( rescale = 1.0/255. )"
      ],
      "execution_count": null,
      "outputs": []
    },
    {
      "cell_type": "code",
      "metadata": {
        "id": "ptN601oorMtv",
        "colab": {
          "base_uri": "https://localhost:8080/"
        },
        "outputId": "898a6193-17c4-4276-e388-e2624a448471"
      },
      "source": [
        "train_generator = train_datagen.flow_from_directory(train_dir,\n",
        "                                                    batch_size = 32,\n",
        "                                                    class_mode = 'categorical',\n",
        "                                                    target_size = (300, 300))\n",
        "\n",
        "# Flow validation images in batches of 20 using test_datagen generator\n",
        "validation_generator =  test_datagen.flow_from_directory( validation_dir,\n",
        "                                                          batch_size  = 32,\n",
        "                                                          class_mode  = 'categorical',\n",
        "                                                          shuffle=False ,\n",
        "                                                          target_size = (300, 300) )"
      ],
      "execution_count": null,
      "outputs": [
        {
          "output_type": "stream",
          "text": [
            "Found 891 images belonging to 4 classes.\n",
            "Found 192 images belonging to 4 classes.\n"
          ],
          "name": "stdout"
        }
      ]
    },
    {
      "cell_type": "code",
      "metadata": {
        "id": "SkVui0F5mgsW"
      },
      "source": [
        "from tensorflow.keras.callbacks import ModelCheckpoint\n",
        "\n",
        "checkpoint = ModelCheckpoint('best_model.h5', verbose=1, monitor='val_accuracy', save_best_only=True, mode='auto')"
      ],
      "execution_count": null,
      "outputs": []
    },
    {
      "cell_type": "code",
      "metadata": {
        "id": "IyjHVm-prPwH",
        "colab": {
          "base_uri": "https://localhost:8080/"
        },
        "outputId": "c642c37b-65b7-4692-8f86-9da24ad666cc"
      },
      "source": [
        "history = model.fit(\n",
        "            train_generator,\n",
        "            validation_data = validation_generator,\n",
        "            steps_per_epoch = len(train_generator),\n",
        "            epochs = 100,\n",
        "            callbacks=[checkpoint],\n",
        "            validation_steps = len(validation_generator),\n",
        "            verbose = 2)"
      ],
      "execution_count": null,
      "outputs": [
        {
          "output_type": "stream",
          "text": [
            "Epoch 1/100\n",
            "28/28 - 496s - loss: 1.1911 - accuracy: 0.3782 - val_loss: 2.2412 - val_accuracy: 0.2604\n",
            "\n",
            "Epoch 00001: val_accuracy improved from -inf to 0.26042, saving model to best_model.h5\n",
            "Epoch 2/100\n",
            "28/28 - 23s - loss: 1.0853 - accuracy: 0.4029 - val_loss: 1.5915 - val_accuracy: 0.2604\n",
            "\n",
            "Epoch 00002: val_accuracy did not improve from 0.26042\n",
            "Epoch 3/100\n",
            "28/28 - 22s - loss: 1.1149 - accuracy: 0.4007 - val_loss: 1.9194 - val_accuracy: 0.2604\n",
            "\n",
            "Epoch 00003: val_accuracy did not improve from 0.26042\n",
            "Epoch 4/100\n",
            "28/28 - 22s - loss: 1.0728 - accuracy: 0.4074 - val_loss: 2.3221 - val_accuracy: 0.2708\n",
            "\n",
            "Epoch 00004: val_accuracy improved from 0.26042 to 0.27083, saving model to best_model.h5\n",
            "Epoch 5/100\n",
            "28/28 - 23s - loss: 1.0400 - accuracy: 0.4860 - val_loss: 3.3252 - val_accuracy: 0.3750\n",
            "\n",
            "Epoch 00005: val_accuracy improved from 0.27083 to 0.37500, saving model to best_model.h5\n",
            "Epoch 6/100\n",
            "28/28 - 22s - loss: 1.0080 - accuracy: 0.5297 - val_loss: 1.8402 - val_accuracy: 0.4844\n",
            "\n",
            "Epoch 00006: val_accuracy improved from 0.37500 to 0.48438, saving model to best_model.h5\n",
            "Epoch 7/100\n",
            "28/28 - 22s - loss: 0.9394 - accuracy: 0.5679 - val_loss: 2.3872 - val_accuracy: 0.4583\n",
            "\n",
            "Epoch 00007: val_accuracy did not improve from 0.48438\n",
            "Epoch 8/100\n",
            "28/28 - 23s - loss: 0.9681 - accuracy: 0.5410 - val_loss: 2.1213 - val_accuracy: 0.4688\n",
            "\n",
            "Epoch 00008: val_accuracy did not improve from 0.48438\n",
            "Epoch 9/100\n",
            "28/28 - 22s - loss: 0.8836 - accuracy: 0.6038 - val_loss: 2.3598 - val_accuracy: 0.4583\n",
            "\n",
            "Epoch 00009: val_accuracy did not improve from 0.48438\n",
            "Epoch 10/100\n",
            "28/28 - 22s - loss: 0.8779 - accuracy: 0.6251 - val_loss: 4.2085 - val_accuracy: 0.4844\n",
            "\n",
            "Epoch 00010: val_accuracy did not improve from 0.48438\n",
            "Epoch 11/100\n",
            "28/28 - 23s - loss: 0.8412 - accuracy: 0.6105 - val_loss: 2.5285 - val_accuracy: 0.4948\n",
            "\n",
            "Epoch 00011: val_accuracy improved from 0.48438 to 0.49479, saving model to best_model.h5\n",
            "Epoch 12/100\n",
            "28/28 - 22s - loss: 0.7957 - accuracy: 0.6442 - val_loss: 3.1544 - val_accuracy: 0.5312\n",
            "\n",
            "Epoch 00012: val_accuracy improved from 0.49479 to 0.53125, saving model to best_model.h5\n",
            "Epoch 13/100\n",
            "28/28 - 22s - loss: 0.7732 - accuracy: 0.6700 - val_loss: 1.9451 - val_accuracy: 0.3698\n",
            "\n",
            "Epoch 00013: val_accuracy did not improve from 0.53125\n",
            "Epoch 14/100\n",
            "28/28 - 23s - loss: 0.7274 - accuracy: 0.6734 - val_loss: 3.9241 - val_accuracy: 0.5573\n",
            "\n",
            "Epoch 00014: val_accuracy improved from 0.53125 to 0.55729, saving model to best_model.h5\n",
            "Epoch 15/100\n",
            "28/28 - 22s - loss: 0.7364 - accuracy: 0.6801 - val_loss: 3.8652 - val_accuracy: 0.5156\n",
            "\n",
            "Epoch 00015: val_accuracy did not improve from 0.55729\n",
            "Epoch 16/100\n",
            "28/28 - 22s - loss: 0.6431 - accuracy: 0.7205 - val_loss: 3.5182 - val_accuracy: 0.5625\n",
            "\n",
            "Epoch 00016: val_accuracy improved from 0.55729 to 0.56250, saving model to best_model.h5\n",
            "Epoch 17/100\n",
            "28/28 - 23s - loss: 0.6582 - accuracy: 0.7306 - val_loss: 2.4267 - val_accuracy: 0.5573\n",
            "\n",
            "Epoch 00017: val_accuracy did not improve from 0.56250\n",
            "Epoch 18/100\n",
            "28/28 - 23s - loss: 0.6225 - accuracy: 0.7520 - val_loss: 2.7777 - val_accuracy: 0.5469\n",
            "\n",
            "Epoch 00018: val_accuracy did not improve from 0.56250\n",
            "Epoch 19/100\n",
            "28/28 - 23s - loss: 0.6191 - accuracy: 0.7531 - val_loss: 4.6338 - val_accuracy: 0.5365\n",
            "\n",
            "Epoch 00019: val_accuracy did not improve from 0.56250\n",
            "Epoch 20/100\n",
            "28/28 - 22s - loss: 0.5592 - accuracy: 0.7699 - val_loss: 2.7808 - val_accuracy: 0.5573\n",
            "\n",
            "Epoch 00020: val_accuracy did not improve from 0.56250\n",
            "Epoch 21/100\n",
            "28/28 - 22s - loss: 0.6104 - accuracy: 0.7419 - val_loss: 3.6387 - val_accuracy: 0.5677\n",
            "\n",
            "Epoch 00021: val_accuracy improved from 0.56250 to 0.56771, saving model to best_model.h5\n",
            "Epoch 22/100\n",
            "28/28 - 23s - loss: 0.5510 - accuracy: 0.7868 - val_loss: 2.6032 - val_accuracy: 0.5625\n",
            "\n",
            "Epoch 00022: val_accuracy did not improve from 0.56771\n",
            "Epoch 23/100\n",
            "28/28 - 22s - loss: 0.5307 - accuracy: 0.7856 - val_loss: 3.2356 - val_accuracy: 0.5469\n",
            "\n",
            "Epoch 00023: val_accuracy did not improve from 0.56771\n",
            "Epoch 24/100\n",
            "28/28 - 22s - loss: 0.5769 - accuracy: 0.7969 - val_loss: 2.2472 - val_accuracy: 0.6406\n",
            "\n",
            "Epoch 00024: val_accuracy improved from 0.56771 to 0.64062, saving model to best_model.h5\n",
            "Epoch 25/100\n",
            "28/28 - 23s - loss: 0.4740 - accuracy: 0.8171 - val_loss: 2.0054 - val_accuracy: 0.5833\n",
            "\n",
            "Epoch 00025: val_accuracy did not improve from 0.64062\n",
            "Epoch 26/100\n",
            "28/28 - 22s - loss: 0.4637 - accuracy: 0.8272 - val_loss: 3.3324 - val_accuracy: 0.5417\n",
            "\n",
            "Epoch 00026: val_accuracy did not improve from 0.64062\n",
            "Epoch 27/100\n",
            "28/28 - 23s - loss: 0.4480 - accuracy: 0.8350 - val_loss: 3.2954 - val_accuracy: 0.5677\n",
            "\n",
            "Epoch 00027: val_accuracy did not improve from 0.64062\n",
            "Epoch 28/100\n",
            "28/28 - 23s - loss: 0.4458 - accuracy: 0.8350 - val_loss: 4.3977 - val_accuracy: 0.5885\n",
            "\n",
            "Epoch 00028: val_accuracy did not improve from 0.64062\n",
            "Epoch 29/100\n",
            "28/28 - 22s - loss: 0.4213 - accuracy: 0.8384 - val_loss: 2.7071 - val_accuracy: 0.5885\n",
            "\n",
            "Epoch 00029: val_accuracy did not improve from 0.64062\n",
            "Epoch 30/100\n",
            "28/28 - 23s - loss: 0.3817 - accuracy: 0.8664 - val_loss: 3.8966 - val_accuracy: 0.5052\n",
            "\n",
            "Epoch 00030: val_accuracy did not improve from 0.64062\n",
            "Epoch 31/100\n",
            "28/28 - 23s - loss: 0.3881 - accuracy: 0.8698 - val_loss: 2.8932 - val_accuracy: 0.5729\n",
            "\n",
            "Epoch 00031: val_accuracy did not improve from 0.64062\n",
            "Epoch 32/100\n",
            "28/28 - 22s - loss: 0.3707 - accuracy: 0.8878 - val_loss: 3.9672 - val_accuracy: 0.6562\n",
            "\n",
            "Epoch 00032: val_accuracy improved from 0.64062 to 0.65625, saving model to best_model.h5\n",
            "Epoch 33/100\n",
            "28/28 - 23s - loss: 0.3909 - accuracy: 0.8664 - val_loss: 3.4721 - val_accuracy: 0.5938\n",
            "\n",
            "Epoch 00033: val_accuracy did not improve from 0.65625\n",
            "Epoch 34/100\n",
            "28/28 - 22s - loss: 0.3506 - accuracy: 0.8799 - val_loss: 2.3949 - val_accuracy: 0.6302\n",
            "\n",
            "Epoch 00034: val_accuracy did not improve from 0.65625\n",
            "Epoch 35/100\n",
            "28/28 - 22s - loss: 0.3271 - accuracy: 0.8878 - val_loss: 3.8630 - val_accuracy: 0.6302\n",
            "\n",
            "Epoch 00035: val_accuracy did not improve from 0.65625\n",
            "Epoch 36/100\n",
            "28/28 - 23s - loss: 0.3391 - accuracy: 0.8765 - val_loss: 4.4230 - val_accuracy: 0.5885\n",
            "\n",
            "Epoch 00036: val_accuracy did not improve from 0.65625\n",
            "Epoch 37/100\n",
            "28/28 - 22s - loss: 0.2854 - accuracy: 0.8855 - val_loss: 4.0832 - val_accuracy: 0.6354\n",
            "\n",
            "Epoch 00037: val_accuracy did not improve from 0.65625\n",
            "Epoch 38/100\n",
            "28/28 - 22s - loss: 0.3145 - accuracy: 0.8923 - val_loss: 2.4996 - val_accuracy: 0.6198\n",
            "\n",
            "Epoch 00038: val_accuracy did not improve from 0.65625\n",
            "Epoch 39/100\n",
            "28/28 - 23s - loss: 0.2855 - accuracy: 0.9057 - val_loss: 3.4815 - val_accuracy: 0.5885\n",
            "\n",
            "Epoch 00039: val_accuracy did not improve from 0.65625\n",
            "Epoch 40/100\n",
            "28/28 - 22s - loss: 0.3048 - accuracy: 0.9024 - val_loss: 3.3011 - val_accuracy: 0.6302\n",
            "\n",
            "Epoch 00040: val_accuracy did not improve from 0.65625\n",
            "Epoch 41/100\n",
            "28/28 - 22s - loss: 0.2643 - accuracy: 0.9125 - val_loss: 4.2423 - val_accuracy: 0.6198\n",
            "\n",
            "Epoch 00041: val_accuracy did not improve from 0.65625\n",
            "Epoch 42/100\n",
            "28/28 - 23s - loss: 0.2735 - accuracy: 0.9125 - val_loss: 2.9249 - val_accuracy: 0.6406\n",
            "\n",
            "Epoch 00042: val_accuracy did not improve from 0.65625\n",
            "Epoch 43/100\n",
            "28/28 - 22s - loss: 0.2684 - accuracy: 0.9068 - val_loss: 3.8980 - val_accuracy: 0.6562\n",
            "\n",
            "Epoch 00043: val_accuracy did not improve from 0.65625\n",
            "Epoch 44/100\n",
            "28/28 - 22s - loss: 0.2678 - accuracy: 0.9080 - val_loss: 3.3613 - val_accuracy: 0.5990\n",
            "\n",
            "Epoch 00044: val_accuracy did not improve from 0.65625\n",
            "Epoch 45/100\n",
            "28/28 - 23s - loss: 0.2319 - accuracy: 0.9237 - val_loss: 4.5331 - val_accuracy: 0.6302\n",
            "\n",
            "Epoch 00045: val_accuracy did not improve from 0.65625\n",
            "Epoch 46/100\n",
            "28/28 - 23s - loss: 0.2415 - accuracy: 0.9113 - val_loss: 3.7013 - val_accuracy: 0.6562\n",
            "\n",
            "Epoch 00046: val_accuracy did not improve from 0.65625\n",
            "Epoch 47/100\n",
            "28/28 - 22s - loss: 0.1968 - accuracy: 0.9428 - val_loss: 3.4887 - val_accuracy: 0.6406\n",
            "\n",
            "Epoch 00047: val_accuracy did not improve from 0.65625\n",
            "Epoch 48/100\n",
            "28/28 - 22s - loss: 0.2375 - accuracy: 0.9147 - val_loss: 2.4997 - val_accuracy: 0.6510\n",
            "\n",
            "Epoch 00048: val_accuracy did not improve from 0.65625\n",
            "Epoch 49/100\n",
            "28/28 - 22s - loss: 0.1902 - accuracy: 0.9473 - val_loss: 7.2640 - val_accuracy: 0.5260\n",
            "\n",
            "Epoch 00049: val_accuracy did not improve from 0.65625\n",
            "Epoch 50/100\n",
            "28/28 - 22s - loss: 0.2079 - accuracy: 0.9327 - val_loss: 3.0613 - val_accuracy: 0.6302\n",
            "\n",
            "Epoch 00050: val_accuracy did not improve from 0.65625\n",
            "Epoch 51/100\n",
            "28/28 - 22s - loss: 0.2087 - accuracy: 0.9304 - val_loss: 2.8459 - val_accuracy: 0.6458\n",
            "\n",
            "Epoch 00051: val_accuracy did not improve from 0.65625\n",
            "Epoch 52/100\n",
            "28/28 - 22s - loss: 0.2415 - accuracy: 0.9237 - val_loss: 3.1477 - val_accuracy: 0.6615\n",
            "\n",
            "Epoch 00052: val_accuracy improved from 0.65625 to 0.66146, saving model to best_model.h5\n",
            "Epoch 53/100\n",
            "28/28 - 23s - loss: 0.2580 - accuracy: 0.9102 - val_loss: 3.1198 - val_accuracy: 0.6510\n",
            "\n",
            "Epoch 00053: val_accuracy did not improve from 0.66146\n",
            "Epoch 54/100\n",
            "28/28 - 22s - loss: 0.1616 - accuracy: 0.9450 - val_loss: 4.7680 - val_accuracy: 0.6042\n",
            "\n",
            "Epoch 00054: val_accuracy did not improve from 0.66146\n",
            "Epoch 55/100\n",
            "28/28 - 22s - loss: 0.2914 - accuracy: 0.9237 - val_loss: 3.1761 - val_accuracy: 0.6146\n",
            "\n",
            "Epoch 00055: val_accuracy did not improve from 0.66146\n",
            "Epoch 56/100\n",
            "28/28 - 22s - loss: 0.1577 - accuracy: 0.9484 - val_loss: 4.0343 - val_accuracy: 0.6510\n",
            "\n",
            "Epoch 00056: val_accuracy did not improve from 0.66146\n",
            "Epoch 57/100\n",
            "28/28 - 22s - loss: 0.1708 - accuracy: 0.9484 - val_loss: 3.7959 - val_accuracy: 0.6562\n",
            "\n",
            "Epoch 00057: val_accuracy did not improve from 0.66146\n",
            "Epoch 58/100\n",
            "28/28 - 22s - loss: 0.1569 - accuracy: 0.9484 - val_loss: 4.3873 - val_accuracy: 0.6458\n",
            "\n",
            "Epoch 00058: val_accuracy did not improve from 0.66146\n",
            "Epoch 59/100\n",
            "28/28 - 22s - loss: 0.1793 - accuracy: 0.9405 - val_loss: 4.3274 - val_accuracy: 0.6667\n",
            "\n",
            "Epoch 00059: val_accuracy improved from 0.66146 to 0.66667, saving model to best_model.h5\n",
            "Epoch 60/100\n",
            "28/28 - 23s - loss: 0.1293 - accuracy: 0.9574 - val_loss: 3.8199 - val_accuracy: 0.6823\n",
            "\n",
            "Epoch 00060: val_accuracy improved from 0.66667 to 0.68229, saving model to best_model.h5\n",
            "Epoch 61/100\n",
            "28/28 - 22s - loss: 0.1939 - accuracy: 0.9394 - val_loss: 4.1240 - val_accuracy: 0.6458\n",
            "\n",
            "Epoch 00061: val_accuracy did not improve from 0.68229\n",
            "Epoch 62/100\n",
            "28/28 - 22s - loss: 0.1171 - accuracy: 0.9641 - val_loss: 4.0160 - val_accuracy: 0.6667\n",
            "\n",
            "Epoch 00062: val_accuracy did not improve from 0.68229\n",
            "Epoch 63/100\n",
            "28/28 - 22s - loss: 0.2023 - accuracy: 0.9371 - val_loss: 4.6301 - val_accuracy: 0.6719\n",
            "\n",
            "Epoch 00063: val_accuracy did not improve from 0.68229\n",
            "Epoch 64/100\n",
            "28/28 - 21s - loss: 0.1310 - accuracy: 0.9517 - val_loss: 4.5724 - val_accuracy: 0.5938\n",
            "\n",
            "Epoch 00064: val_accuracy did not improve from 0.68229\n",
            "Epoch 65/100\n",
            "28/28 - 23s - loss: 0.1499 - accuracy: 0.9551 - val_loss: 4.3337 - val_accuracy: 0.6562\n",
            "\n",
            "Epoch 00065: val_accuracy did not improve from 0.68229\n",
            "Epoch 66/100\n",
            "28/28 - 22s - loss: 0.1569 - accuracy: 0.9383 - val_loss: 8.5103 - val_accuracy: 0.5312\n",
            "\n",
            "Epoch 00066: val_accuracy did not improve from 0.68229\n",
            "Epoch 67/100\n",
            "28/28 - 22s - loss: 0.1289 - accuracy: 0.9574 - val_loss: 12.7547 - val_accuracy: 0.5365\n",
            "\n",
            "Epoch 00067: val_accuracy did not improve from 0.68229\n",
            "Epoch 68/100\n",
            "28/28 - 23s - loss: 0.1445 - accuracy: 0.9540 - val_loss: 2.9646 - val_accuracy: 0.6250\n",
            "\n",
            "Epoch 00068: val_accuracy did not improve from 0.68229\n",
            "Epoch 69/100\n",
            "28/28 - 22s - loss: 0.1576 - accuracy: 0.9529 - val_loss: 4.3179 - val_accuracy: 0.6875\n",
            "\n",
            "Epoch 00069: val_accuracy improved from 0.68229 to 0.68750, saving model to best_model.h5\n",
            "Epoch 70/100\n",
            "28/28 - 22s - loss: 0.0886 - accuracy: 0.9764 - val_loss: 5.1439 - val_accuracy: 0.6094\n",
            "\n",
            "Epoch 00070: val_accuracy did not improve from 0.68750\n",
            "Epoch 71/100\n",
            "28/28 - 23s - loss: 0.1825 - accuracy: 0.9405 - val_loss: 5.0756 - val_accuracy: 0.6406\n",
            "\n",
            "Epoch 00071: val_accuracy did not improve from 0.68750\n",
            "Epoch 72/100\n",
            "28/28 - 22s - loss: 0.0964 - accuracy: 0.9742 - val_loss: 5.0341 - val_accuracy: 0.6719\n",
            "\n",
            "Epoch 00072: val_accuracy did not improve from 0.68750\n",
            "Epoch 73/100\n",
            "28/28 - 21s - loss: 0.1715 - accuracy: 0.9529 - val_loss: 5.2551 - val_accuracy: 0.5260\n",
            "\n",
            "Epoch 00073: val_accuracy did not improve from 0.68750\n",
            "Epoch 74/100\n",
            "28/28 - 23s - loss: 0.1530 - accuracy: 0.9517 - val_loss: 4.3003 - val_accuracy: 0.6562\n",
            "\n",
            "Epoch 00074: val_accuracy did not improve from 0.68750\n",
            "Epoch 75/100\n",
            "28/28 - 22s - loss: 0.1135 - accuracy: 0.9551 - val_loss: 7.0416 - val_accuracy: 0.6562\n",
            "\n",
            "Epoch 00075: val_accuracy did not improve from 0.68750\n",
            "Epoch 76/100\n",
            "28/28 - 22s - loss: 0.1345 - accuracy: 0.9517 - val_loss: 5.2962 - val_accuracy: 0.6875\n",
            "\n",
            "Epoch 00076: val_accuracy did not improve from 0.68750\n",
            "Epoch 77/100\n",
            "28/28 - 21s - loss: 0.1380 - accuracy: 0.9607 - val_loss: 4.3493 - val_accuracy: 0.6510\n",
            "\n",
            "Epoch 00077: val_accuracy did not improve from 0.68750\n",
            "Epoch 78/100\n",
            "28/28 - 22s - loss: 0.1395 - accuracy: 0.9574 - val_loss: 5.5735 - val_accuracy: 0.6875\n",
            "\n",
            "Epoch 00078: val_accuracy did not improve from 0.68750\n",
            "Epoch 79/100\n",
            "28/28 - 22s - loss: 0.1410 - accuracy: 0.9506 - val_loss: 4.6255 - val_accuracy: 0.6562\n",
            "\n",
            "Epoch 00079: val_accuracy did not improve from 0.68750\n",
            "Epoch 80/100\n",
            "28/28 - 21s - loss: 0.0691 - accuracy: 0.9742 - val_loss: 7.0050 - val_accuracy: 0.6510\n",
            "\n",
            "Epoch 00080: val_accuracy did not improve from 0.68750\n",
            "Epoch 81/100\n",
            "28/28 - 22s - loss: 0.1701 - accuracy: 0.9416 - val_loss: 3.8861 - val_accuracy: 0.6823\n",
            "\n",
            "Epoch 00081: val_accuracy did not improve from 0.68750\n",
            "Epoch 82/100\n",
            "28/28 - 22s - loss: 0.1348 - accuracy: 0.9517 - val_loss: 5.0228 - val_accuracy: 0.6615\n",
            "\n",
            "Epoch 00082: val_accuracy did not improve from 0.68750\n",
            "Epoch 83/100\n",
            "28/28 - 22s - loss: 0.1102 - accuracy: 0.9607 - val_loss: 5.2123 - val_accuracy: 0.6302\n",
            "\n",
            "Epoch 00083: val_accuracy did not improve from 0.68750\n",
            "Epoch 84/100\n",
            "28/28 - 22s - loss: 0.1002 - accuracy: 0.9719 - val_loss: 8.8238 - val_accuracy: 0.6562\n",
            "\n",
            "Epoch 00084: val_accuracy did not improve from 0.68750\n",
            "Epoch 85/100\n",
            "28/28 - 22s - loss: 0.1227 - accuracy: 0.9562 - val_loss: 7.0464 - val_accuracy: 0.6667\n",
            "\n",
            "Epoch 00085: val_accuracy did not improve from 0.68750\n",
            "Epoch 86/100\n",
            "28/28 - 21s - loss: 0.1447 - accuracy: 0.9540 - val_loss: 7.2573 - val_accuracy: 0.6927\n",
            "\n",
            "Epoch 00086: val_accuracy improved from 0.68750 to 0.69271, saving model to best_model.h5\n",
            "Epoch 87/100\n",
            "28/28 - 22s - loss: 0.1282 - accuracy: 0.9618 - val_loss: 6.5137 - val_accuracy: 0.6615\n",
            "\n",
            "Epoch 00087: val_accuracy did not improve from 0.69271\n",
            "Epoch 88/100\n",
            "28/28 - 22s - loss: 0.1044 - accuracy: 0.9708 - val_loss: 6.3405 - val_accuracy: 0.6302\n",
            "\n",
            "Epoch 00088: val_accuracy did not improve from 0.69271\n",
            "Epoch 89/100\n",
            "28/28 - 23s - loss: 0.1193 - accuracy: 0.9731 - val_loss: 4.7653 - val_accuracy: 0.6198\n",
            "\n",
            "Epoch 00089: val_accuracy did not improve from 0.69271\n",
            "Epoch 90/100\n",
            "28/28 - 21s - loss: 0.1120 - accuracy: 0.9540 - val_loss: 6.6943 - val_accuracy: 0.6510\n",
            "\n",
            "Epoch 00090: val_accuracy did not improve from 0.69271\n",
            "Epoch 91/100\n",
            "28/28 - 21s - loss: 0.1171 - accuracy: 0.9708 - val_loss: 4.9817 - val_accuracy: 0.6510\n",
            "\n",
            "Epoch 00091: val_accuracy did not improve from 0.69271\n",
            "Epoch 92/100\n",
            "28/28 - 23s - loss: 0.1044 - accuracy: 0.9708 - val_loss: 4.6213 - val_accuracy: 0.5938\n",
            "\n",
            "Epoch 00092: val_accuracy did not improve from 0.69271\n",
            "Epoch 93/100\n",
            "28/28 - 21s - loss: 0.0702 - accuracy: 0.9753 - val_loss: 7.7491 - val_accuracy: 0.6771\n",
            "\n",
            "Epoch 00093: val_accuracy did not improve from 0.69271\n",
            "Epoch 94/100\n",
            "28/28 - 22s - loss: 0.1042 - accuracy: 0.9652 - val_loss: 7.0906 - val_accuracy: 0.6875\n",
            "\n",
            "Epoch 00094: val_accuracy did not improve from 0.69271\n",
            "Epoch 95/100\n",
            "28/28 - 23s - loss: 0.1082 - accuracy: 0.9708 - val_loss: 8.2845 - val_accuracy: 0.7083\n",
            "\n",
            "Epoch 00095: val_accuracy improved from 0.69271 to 0.70833, saving model to best_model.h5\n",
            "Epoch 96/100\n",
            "28/28 - 22s - loss: 0.1223 - accuracy: 0.9618 - val_loss: 6.3070 - val_accuracy: 0.6667\n",
            "\n",
            "Epoch 00096: val_accuracy did not improve from 0.70833\n",
            "Epoch 97/100\n",
            "28/28 - 22s - loss: 0.0746 - accuracy: 0.9798 - val_loss: 9.9829 - val_accuracy: 0.6406\n",
            "\n",
            "Epoch 00097: val_accuracy did not improve from 0.70833\n",
            "Epoch 98/100\n",
            "28/28 - 23s - loss: 0.1050 - accuracy: 0.9686 - val_loss: 6.1848 - val_accuracy: 0.6719\n",
            "\n",
            "Epoch 00098: val_accuracy did not improve from 0.70833\n",
            "Epoch 99/100\n",
            "28/28 - 21s - loss: 0.0782 - accuracy: 0.9742 - val_loss: 6.8088 - val_accuracy: 0.6458\n",
            "\n",
            "Epoch 00099: val_accuracy did not improve from 0.70833\n",
            "Epoch 100/100\n",
            "28/28 - 22s - loss: 0.0669 - accuracy: 0.9708 - val_loss: 16.7741 - val_accuracy: 0.6042\n",
            "\n",
            "Epoch 00100: val_accuracy did not improve from 0.70833\n"
          ],
          "name": "stdout"
        }
      ]
    },
    {
      "cell_type": "code",
      "metadata": {
        "id": "jPfjTbHYsKOF",
        "colab": {
          "base_uri": "https://localhost:8080/",
          "height": 564
        },
        "outputId": "ae742950-eb62-4e83-8e24-ea6ff25da0f6"
      },
      "source": [
        "import matplotlib.pyplot as plt\n",
        "acc = history.history['accuracy']\n",
        "val_acc = history.history['val_accuracy']\n",
        "loss = history.history['loss']\n",
        "val_loss = history.history['val_loss']\n",
        "\n",
        "epochs = range(len(acc))\n",
        "\n",
        "plt.plot(epochs, acc, 'r', label='Training accuracy')\n",
        "plt.plot(epochs, val_acc, 'b', label='Validation accuracy')\n",
        "plt.title('Training and validation accuracy')\n",
        "\n",
        "plt.legend(loc=0)\n",
        "plt.figure()\n",
        "\n",
        "plt.plot(epochs, loss, 'r', label='Training Loss')\n",
        "plt.plot(epochs, val_loss, 'b', label='Validation Loss')\n",
        "plt.title('Training and validation Loss')\n",
        "plt.legend(loc=0)\n",
        "plt.figure()\n",
        "\n",
        "\n",
        "plt.show()"
      ],
      "execution_count": null,
      "outputs": [
        {
          "output_type": "display_data",
          "data": {
            "image/png": "[encoded data removed]",
            "text/plain": [
              "<Figure size 432x288 with 1 Axes>"
            ]
          },
          "metadata": {
            "tags": [],
            "needs_background": "light"
          }
        },
        {
          "output_type": "display_data",
          "data": {
            "image/png": "[encoded data removed]",
            "text/plain": [
              "<Figure size 432x288 with 1 Axes>"
            ]
          },
          "metadata": {
            "tags": [],
            "needs_background": "light"
          }
        },
        {
          "output_type": "display_data",
          "data": {
            "text/plain": [
              "<Figure size 432x288 with 0 Axes>"
            ]
          },
          "metadata": {
            "tags": []
          }
        }
      ]
    },
    {
      "cell_type": "code",
      "metadata": {
        "id": "KU9w3Eb3KIo_",
        "colab": {
          "base_uri": "https://localhost:8080/"
        },
        "outputId": "4ad362bd-2de9-4992-b89e-16e88c0afc5b"
      },
      "source": [
        "print(\"[INFO] Calculating model accuracy\")\n",
        "model.load_weights('best_model.h5')\n",
        "scores = model.evaluate_generator(generator=validation_generator, steps=validation_generator.n //20+1)\n",
        "print(f\"Test Accuracy: {scores[1]*100}\")"
      ],
      "execution_count": null,
      "outputs": [
        {
          "output_type": "stream",
          "text": [
            "[INFO] Calculating model accuracy\n"
          ],
          "name": "stdout"
        },
        {
          "output_type": "stream",
          "text": [
            "/usr/local/lib/python3.7/dist-packages/tensorflow/python/keras/engine/training.py:1973: UserWarning: `Model.evaluate_generator` is deprecated and will be removed in a future version. Please use `Model.evaluate`, which supports generators.\n",
            "  warnings.warn('`Model.evaluate_generator` is deprecated and '\n"
          ],
          "name": "stderr"
        },
        {
          "output_type": "stream",
          "text": [
            "WARNING:tensorflow:Your input ran out of data; interrupting training. Make sure that your dataset or generator can generate at least `steps_per_epoch * epochs` batches (in this case, 10 batches). You may need to use the repeat() function when building your dataset.\n",
            "Test Accuracy: 70.83333134651184\n"
          ],
          "name": "stdout"
        }
      ]
    },
    {
      "cell_type": "code",
      "metadata": {
        "id": "bUYIsLWjxWXn",
        "colab": {
          "base_uri": "https://localhost:8080/"
        },
        "outputId": "47f87828-ee40-43f1-fe58-61db575717d0"
      },
      "source": [
        "from sklearn.metrics import classification_report, confusion_matrix\n",
        "Y_pred = model.predict_generator(validation_generator, steps=validation_generator.n // 20+ 1)\n",
        "\n",
        "y_pred = np.argmax(Y_pred, axis=1)\n",
        "print()\n",
        "\n",
        "print('Confusion Matrix')\n",
        "target_names = list(validation_generator.class_indices.keys())\n",
        "print(target_names)\n",
        "print(confusion_matrix(validation_generator.classes, y_pred))\n",
        "print('Classification Report')\n",
        "\n",
        "print(classification_report(validation_generator.classes, y_pred, target_names=target_names))"
      ],
      "execution_count": null,
      "outputs": [
        {
          "output_type": "stream",
          "text": [
            "/usr/local/lib/python3.7/dist-packages/tensorflow/python/keras/engine/training.py:2001: UserWarning: `Model.predict_generator` is deprecated and will be removed in a future version. Please use `Model.predict`, which supports generators.\n",
            "  warnings.warn('`Model.predict_generator` is deprecated and '\n"
          ],
          "name": "stderr"
        },
        {
          "output_type": "stream",
          "text": [
            "WARNING:tensorflow:Your input ran out of data; interrupting training. Make sure that your dataset or generator can generate at least `steps_per_epoch * epochs` batches (in this case, 10 batches). You may need to use the repeat() function when building your dataset.\n",
            "\n",
            "Confusion Matrix\n",
            "['Black_Rot', 'Healty', 'Root_knot', 'Scal_Rot']\n",
            "[[47  1  1  0]\n",
            " [ 2 48  0  0]\n",
            " [ 2  1 41  0]\n",
            " [36  8  5  0]]\n",
            "Classification Report\n",
            "              precision    recall  f1-score   support\n",
            "\n",
            "   Black_Rot       0.54      0.96      0.69        49\n",
            "      Healty       0.83      0.96      0.89        50\n",
            "   Root_knot       0.87      0.93      0.90        44\n",
            "    Scal_Rot       0.00      0.00      0.00        49\n",
            "\n",
            "    accuracy                           0.71       192\n",
            "   macro avg       0.56      0.71      0.62       192\n",
            "weighted avg       0.55      0.71      0.61       192\n",
            "\n"
          ],
          "name": "stdout"
        },
        {
          "output_type": "stream",
          "text": [
            "/usr/local/lib/python3.7/dist-packages/sklearn/metrics/_classification.py:1272: UndefinedMetricWarning: Precision and F-score are ill-defined and being set to 0.0 in labels with no predicted samples. Use `zero_division` parameter to control this behavior.\n",
            "  _warn_prf(average, modifier, msg_start, len(result))\n"
          ],
          "name": "stderr"
        }
      ]
    },
    {
      "cell_type": "code",
      "metadata": {
        "id": "FJmm6-hzAb7q"
      },
      "source": [],
      "execution_count": null,
      "outputs": []
    }
  ]
}