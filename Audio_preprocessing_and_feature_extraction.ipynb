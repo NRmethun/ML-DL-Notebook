{
  "nbformat": 4,
  "nbformat_minor": 0,
  "metadata": {
    "colab": {
      "provenance": [],
      "authorship_tag": "ABX9TyM/TkutG9EXY09+8air6ETz",
      "include_colab_link": true
    },
    "kernelspec": {
      "name": "python3",
      "display_name": "Python 3"
    },
    "language_info": {
      "name": "python"
    }
  },
  "cells": [
    {
      "cell_type": "markdown",
      "metadata": {
        "id": "view-in-github",
        "colab_type": "text"
      },
      "source": [
        "<a href=\"https://colab.research.google.com/github/NRmethun/ML-DL-Notebook/blob/main/Audio_preprocessing_and_feature_extraction.ipynb\" target=\"_parent\"><img src=\"https://colab.research.google.com/assets/colab-badge.svg\" alt=\"Open In Colab\"/></a>"
      ]
    },
    {
      "cell_type": "code",
      "execution_count": null,
      "metadata": {
        "id": "dmGUI-Gx512k"
      },
      "outputs": [],
      "source": []
    },
    {
      "cell_type": "markdown",
      "source": [
        "**Clipping**"
      ],
      "metadata": {
        "id": "9RrIrrX-6GND"
      }
    },
    {
      "cell_type": "code",
      "source": [
        "import numpy as np\n",
        "from scipy.io.wavfile import read, write\n",
        "\n",
        "input_file = '88.wav'\n",
        "output_file = 'clipped_audio.wav'\n",
        "sr, audio = read(input_file)\n",
        "threshold = 0.01\n",
        "# Apply clipping\n",
        "clipped_audio = np.clip(audio, -threshold, threshold)\n",
        "write(output_file, sr, clipped_audio.astype(np.int16))"
      ],
      "metadata": {
        "id": "mDMkv7O36DL8"
      },
      "execution_count": null,
      "outputs": []
    },
    {
      "cell_type": "markdown",
      "source": [
        "**Time-stretching**"
      ],
      "metadata": {
        "id": "x5bt3TJX6PQN"
      }
    },
    {
      "cell_type": "code",
      "source": [
        "import librosa\n",
        "from scipy.io.wavfile import write\n",
        "\n",
        "audio_file = '86.wav'\n",
        "output_file = 'time_stretched_audio1.wav'\n",
        "audio, sr = librosa.load(audio_file)\n",
        "print(sr)\n",
        "# Define the time stretch factor  works fine for .5 to 1.5\n",
        "stretch_factor = 1.5 # 1.2 Increase duration by 20%\n",
        "# Apply time stretching\n",
        "time_stretched_audio = librosa.effects.time_stretch(audio, rate=stretch_factor)\n",
        "write(output_file, sr, time_stretched_audio)\n",
        "\n"
      ],
      "metadata": {
        "id": "OJT_zCWA6TtP"
      },
      "execution_count": null,
      "outputs": []
    },
    {
      "cell_type": "markdown",
      "source": [
        "**Reverberant**"
      ],
      "metadata": {
        "id": "hxrK_LRI6o9G"
      }
    },
    {
      "cell_type": "code",
      "source": [
        "import numpy as np\n",
        "import soundfile as sf\n",
        "import librosa\n",
        "\n",
        "audio_file = '88.wav'\n",
        "audio, sr = librosa.load(audio_file, sr=None, mono=True)\n",
        "ir_file = 'reverb_impulse_response.wav'\n",
        "ir, sr_ir = librosa.load(ir_file, sr=None, mono=True)\n",
        "\n",
        "# Ensure both audio and impulse response have the same sample rate\n",
        "audio = librosa.resample(audio, sr, sr_ir)\n",
        "\n",
        "# Apply reverberation by convolving the audio signal with the impulse response\n",
        "reverb_audio = np.convolve(audio, ir)\n",
        "\n",
        "# Normalize the reverberant audio to prevent clipping\n",
        "reverb_audio /= np.max(np.abs(reverb_audio))\n",
        "output_file = 'reverberant_audio.wav'\n",
        "sf.write(output_file, reverb_audio, sr)\n"
      ],
      "metadata": {
        "id": "eeLs1WLx6b68"
      },
      "execution_count": null,
      "outputs": []
    },
    {
      "cell_type": "markdown",
      "source": [
        "**Random Gain**"
      ],
      "metadata": {
        "id": "g9_BZsBz6y7i"
      }
    },
    {
      "cell_type": "code",
      "source": [
        "import numpy as np\n",
        "from scipy.io.wavfile import write\n",
        "import librosa\n",
        "audio_file = '88.wav'\n",
        "output_dir = 'noisy_audio_variations/'\n",
        "import soundfile as sf\n",
        "audio, sr = librosa.load(audio_file)\n",
        "num_variations = 30\n",
        "\n",
        "for i in range(num_variations):\n",
        "    # Define a random amplitude range for uniform noise\n",
        "    min_amplitude = np.random.uniform(-0.1, -0.05)\n",
        "    max_amplitude = np.random.uniform(0.05, 0.2)\n",
        "\n",
        "    # Generate uniform noise within the specified range\n",
        "    noise = np.random.uniform(min_amplitude, max_amplitude, len(audio))\n",
        "\n",
        "    # Add the noise to the audio\n",
        "    noisy_audio = audio + noise\n",
        "\n",
        "    # Write the noisy audio to a new file\n",
        "    output_file = output_dir + f'noisy_audio_variation_{i+1}.wav'\n",
        "    sf.write(output_file, noisy_audio, sr)\n",
        "    # write(output_file, sr, noisy_audio)\n"
      ],
      "metadata": {
        "id": "nkwE3NqF6rgF"
      },
      "execution_count": null,
      "outputs": []
    },
    {
      "cell_type": "markdown",
      "source": [
        "**Pitch Shifting**"
      ],
      "metadata": {
        "id": "8apog30h7LFb"
      }
    },
    {
      "cell_type": "code",
      "source": [
        "import librosa\n",
        "from scipy.io.wavfile import write\n",
        "\n",
        "audio_file = '86.wav'\n",
        "output_file = 'pitch_shifted_audio.wav'\n",
        "audio, sr = librosa.load(audio_file)\n",
        "\n",
        "# Define the pitch shift amount (in semitones).. range -5 to 12\n",
        "pitch_shift = -3.5  # Increase pitch by 3 semitones\n",
        "\n",
        "# Apply pitch shifting\n",
        "pitch_shifted_audio = librosa.effects.pitch_shift(audio, sr=sr, n_steps=pitch_shift)\n",
        "write(output_file, sr, pitch_shifted_audio)\n"
      ],
      "metadata": {
        "id": "okJbQtlv7Dk1"
      },
      "execution_count": null,
      "outputs": []
    },
    {
      "cell_type": "markdown",
      "source": [
        "**Pink Noise**"
      ],
      "metadata": {
        "id": "cppEk6Rk7Uq1"
      }
    },
    {
      "cell_type": "code",
      "source": [
        "import pydsm\n",
        "import librosa\n",
        "\n",
        "audio_file = '88.wav'\n",
        "audio, sr = librosa.load(audio_file)\n",
        "noise = pydsm.pink(len(audio))"
      ],
      "metadata": {
        "id": "c0g-lNId7P_t"
      },
      "execution_count": null,
      "outputs": []
    },
    {
      "cell_type": "markdown",
      "source": [
        "**Inverse Polarity**"
      ],
      "metadata": {
        "id": "4arbXNmT7jFc"
      }
    },
    {
      "cell_type": "code",
      "source": [
        "import random\n",
        "import librosa\n",
        "import numpy as np\n",
        "import soundfile as sf\n",
        "\n",
        "def invert_polarity(signal):\n",
        "    return signal * -1\n",
        "\n",
        "if __name__ == \"__main__\":\n",
        "    signal, sr = librosa.load(\"noisy_audio_variations/noisy_audio_variation_29.wav\")\n",
        "    augmented_signal = invert_polarity(signal)\n",
        "    sf.write(\"augmented_audio.wav\", augmented_signal, sr)\n"
      ],
      "metadata": {
        "id": "RmW_7vJj7k4U"
      },
      "execution_count": null,
      "outputs": []
    },
    {
      "cell_type": "markdown",
      "source": [
        "**Frequency** ***Masking***"
      ],
      "metadata": {
        "id": "evKe5MSw7wPk"
      }
    },
    {
      "cell_type": "code",
      "source": [
        "import librosa\n",
        "from scipy.io.wavfile import write\n",
        "\n",
        "audio_file = '88.wav'\n",
        "output_file = 'augmented_audio.wav'\n",
        "\n",
        "# Load the original audio file\n",
        "audio, sr = librosa.load(audio_file)\n",
        "\n",
        "# Define the frequency mask parameters\n",
        "mask_start = 500  # Start frequency of the mask in Hz\n",
        "mask_width = 100  # Width of the mask in frequency bins\n",
        "\n",
        "# Apply frequency masking\n",
        "masked_audio = librosa.effects.freq_mask(audio, sr, mask_start, mask_width)\n",
        "write(output_file, sr, masked_audio)\n"
      ],
      "metadata": {
        "id": "p08e4tT47pjT"
      },
      "execution_count": null,
      "outputs": []
    },
    {
      "cell_type": "markdown",
      "source": [
        "Some Important scripts to order things\n",
        "\n",
        "**CSV file generation from audio data to feed in Model**\n",
        "\n"
      ],
      "metadata": {
        "id": "gOgDEmGz74dh"
      }
    },
    {
      "cell_type": "code",
      "source": [
        "import os\n",
        "import pandas as pd\n",
        "list_ = []\n",
        "dir_name = \"D:\\\\data-preparation-phase-1\\\\generated-data\"\n",
        "# for folder in os.listdir(dir_name):\n",
        "#     list_of_file_names = os.listdir(os.path.join(dir_name,folder))\n",
        "#     list_ = list_ + list(zip([folder]*len(list_of_file_names), list_of_file_names))\n",
        "\n",
        "### to beeeeeeeeeeeeeeeeeeeee\n",
        "# df = pd.DataFrame(list_)\n",
        "# df.to_csv(\"word_list.csv\",index=False)\n",
        "import wave\n",
        "import os\n",
        "import csv\n",
        "\n",
        "# Path to the folder containing the audio dataset\n",
        "dataset_folder = 'D:\\\\final-try\\generated_data_5'\n",
        "\n",
        "# Initialize the CSV file path\n",
        "csv_file = 'audio_dataset.csv'\n",
        "\n",
        "def get_audio_end_time(audio_path):\n",
        "    with wave.open(audio_path, 'rb') as audio_file:\n",
        "        frame_rate = audio_file.getframerate()\n",
        "        total_frames = audio_file.getnframes()\n",
        "        duration = total_frames / float(frame_rate)\n",
        "        return duration\n",
        "\n",
        "# Open the CSV file in write mode\n",
        "with open(csv_file, 'w', newline='') as file:\n",
        "    writer = csv.writer(file)\n",
        "\n",
        "    # Write the header row\n",
        "    writer.writerow(['file_name', 'class', 'tmin', 'tmax'])\n",
        "    # Iterate over the folders and audio files\n",
        "    for label in os.listdir(dataset_folder):\n",
        "        label_folder = os.path.join(dataset_folder, label)\n",
        "        if os.path.isdir(label_folder):\n",
        "            for audio_file in os.listdir(label_folder):\n",
        "                audio_path = os.path.join(label_folder, audio_file)\n",
        "                if audio_file.endswith('.wav'):  # Adjust file extension if necessary\n",
        "                    # Extract audio name, label, start time, and end time\n",
        "                    audio_name = audio_file.split('.')[0]\n",
        "                    start_time = 0.0  # Adjust start time if necessary\n",
        "                    end_time = get_audio_end_time(audio_path) # Adjust end time if necessary\n",
        "\n",
        "                    # Write the audio information to the CSV file\n",
        "                    writer.writerow([audio_name, label, start_time, end_time])\n",
        "\n",
        "print('CSV file created successfully.')\n",
        "\n",
        "# Example usage\n",
        "# audio_path = '88.wav'\n",
        "# end_time = get_audio_end_time(audio_path)\n",
        "# print(\"End time:\", end_time, \"seconds\")\n"
      ],
      "metadata": {
        "id": "WMIJbk8I79up"
      },
      "execution_count": null,
      "outputs": []
    },
    {
      "cell_type": "markdown",
      "source": [
        "**Audio Feature extraction**"
      ],
      "metadata": {
        "id": "c7ci-NK98dK7"
      }
    },
    {
      "cell_type": "code",
      "source": [
        "import numpy as np\n",
        "import librosa\n",
        "import librosa.display\n",
        "import matplotlib.pyplot as plt\n",
        "\n",
        "# Load audio file\n",
        "audio_path = '88.wav'\n",
        "y, sr = librosa.load(audio_path)\n",
        "\n",
        "# Extract Mel spectrogram\n",
        "mel_spectrogram = librosa.feature.melspectrogram(y=y, sr=sr)\n",
        "mel_spectrogram_db = librosa.power_to_db(mel_spectrogram, ref=np.max)\n",
        "\n",
        "# Extract spectral bandwidth\n",
        "spectral_bandwidth = librosa.feature.spectral_bandwidth(y=y, sr=sr)\n",
        "\n",
        "# Extract spectral centroid\n",
        "spectral_centroid = librosa.feature.spectral_centroid(y=y, sr=sr)\n",
        "\n",
        "# Extract chromagram\n",
        "chromagram = librosa.feature.chroma_stft(y=y, sr=sr)\n",
        "\n",
        "# Extract short-time Fourier transform (STFT)\n",
        "stft = np.abs(librosa.stft(y))\n",
        "\n",
        "# Plotting the Mel spectrogram\n",
        "plt.figure(figsize=(10, 4))\n",
        "librosa.display.specshow(mel_spectrogram_db, sr=sr, x_axis='time', y_axis='mel')\n",
        "plt.colorbar(format='%+2.0f dB')\n",
        "plt.title('Mel Spectrogram')\n",
        "plt.show()\n",
        "\n",
        "# Plotting the spectral bandwidth\n",
        "plt.figure()\n",
        "plt.plot(spectral_bandwidth[0])\n",
        "plt.title('Spectral Bandwidth')\n",
        "plt.xlabel('Frame')\n",
        "plt.ylabel('Bandwidth')\n",
        "plt.show()\n",
        "\n",
        "# Plotting the spectral centroid\n",
        "plt.figure()\n",
        "plt.plot(spectral_centroid[0])\n",
        "plt.title('Spectral Centroid')\n",
        "plt.xlabel('Frame')\n",
        "plt.ylabel('Centroid')\n",
        "plt.show()\n",
        "\n",
        "# Plotting the chromagram\n",
        "plt.figure(figsize=(10, 4))\n",
        "librosa.display.specshow(chromagram, sr=sr, x_axis='time', y_axis='chroma')\n",
        "plt.colorbar()\n",
        "plt.title('Chromagram')\n",
        "plt.show()\n",
        "\n",
        "# Plotting the short-time Fourier transform (STFT)\n",
        "plt.figure(figsize=(10, 4))\n",
        "librosa.display.specshow(librosa.amplitude_to_db(stft, ref=np.max), sr=sr, x_axis='time', y_axis='log')\n",
        "plt.colorbar(format='%+2.0f dB')\n",
        "plt.title('Short-Time Fourier Transform (STFT)')\n",
        "plt.show()\n"
      ],
      "metadata": {
        "id": "cfC-e4m18ocj"
      },
      "execution_count": null,
      "outputs": []
    },
    {
      "cell_type": "markdown",
      "source": [
        "**Ordering Audio data**"
      ],
      "metadata": {
        "id": "AK9bMWFK8nf0"
      }
    },
    {
      "cell_type": "code",
      "source": [
        "import os\n",
        "import shutil\n",
        "import uuid\n",
        "def create_folder_and_move_files(source_dir, destination_dir):\n",
        "    # Iterate over all files in the source directory\n",
        "    for root, dirs, files in os.walk(source_dir):\n",
        "        print(root)\n",
        "        cnt= 0\n",
        "        for file_name in files:\n",
        "            source_file_path = os.path.join(root, file_name)\n",
        "            destination_folder_path = os.path.join(destination_dir, os.path.basename(root))\n",
        "            destination_file_path = os.path.join(destination_folder_path, file_name)\n",
        "            shutil.move(source_file_path, destination_file_path)\n",
        "            cnt+=1\n",
        "        print(cnt)\n",
        "\n",
        "            # print(f\"Moved '{file_name}' to '{folder_path}'\")\n",
        "\n",
        "# Example usage\n",
        "# source_directory = \"D:\\\\demo-walk\"\n",
        "# destination_directory = \"D:\\\\demo-move\"\n",
        "destination_directory = \"D:\\\\data-preparation-phase-1\\generated-data\"\n",
        "source_directory = \"D:\\\\data-preparation-phase-1\\orginal-data\"\n",
        "\n",
        "create_folder_and_move_files(source_directory, destination_directory)\n"
      ],
      "metadata": {
        "id": "fD_12qsn85gj"
      },
      "execution_count": null,
      "outputs": []
    },
    {
      "cell_type": "markdown",
      "source": [
        "**Order data and simulation**"
      ],
      "metadata": {
        "id": "Jar1xx2d9IBW"
      }
    },
    {
      "cell_type": "code",
      "source": [
        "### to beeeeeeeeeeeeeeeeeeeeeee\n",
        "import librosa\n",
        "import numpy as np\n",
        "import soundfile as sf\n",
        "import os\n",
        "import uuid\n",
        "import shutil\n",
        "def pitch_scaling(audio, sr, pitch_shift):\n",
        "    pitch_shifted_audio = librosa.effects.pitch_shift(audio, sr=sr, n_steps=pitch_shift)\n",
        "    return pitch_shifted_audio\n",
        "\n",
        "def time_stretching(audio, sr, stretch_factor):\n",
        "    time_stretched_audio = librosa.effects.time_stretch(audio, rate=stretch_factor)\n",
        "    return time_stretched_audio\n",
        "\n",
        "def noise_injection(audio, sr, noise_parcentage_factor):\n",
        "    mean = 0\n",
        "    std = 0.1\n",
        "    noise = np.random.normal(mean, audio.std(), len(audio))\n",
        "    noisy_audio = audio + noise * noise_parcentage_factor\n",
        "    return noisy_audio\n",
        "\n",
        "def inverse_polarity(audio):\n",
        "    return audio * -1\n",
        "\n",
        "def start_augmenation(command, source_file_path, destination_folder_path,\n",
        "                      start_range,end_range, increment, basename):\n",
        "    i = start_range\n",
        "    cnt = 0\n",
        "    audio, sr = librosa.load(source_file_path)\n",
        "    while i<= end_range:\n",
        "        if int(command) == 1:\n",
        "            audio_signal = pitch_scaling(audio, sr, i)\n",
        "        elif int(command) ==2:\n",
        "            audio_signal = time_stretching(audio, sr, i)\n",
        "        elif int(command) ==3:\n",
        "            audio_signal = noise_injection(audio, sr, i)\n",
        "        elif int(command) ==4:\n",
        "            audio_signal = inverse_polarity(audio)\n",
        "        else: print(\"Don't understand your command \")\n",
        "        destination_file_path = os.path.join(destination_folder_path, f\"{basename}_{str(uuid.uuid4())}.wav\")\n",
        "        sf.write(destination_file_path, audio_signal, sr)\n",
        "        i += increment\n",
        "        cnt += 1\n",
        "\n",
        "    print(\"total generated audio  --- \", cnt)\n",
        "\n",
        "\n",
        "if __name__ == \"__main__\":\n",
        "    destination_dir = \"D:\\\\final-try\\generated_data_5\"\n",
        "    source_dir = \"D:\\\\final-try\\orginal\"\n",
        "    cmd = input(\"Enter command: \")\n",
        "    if int(cmd) == 1:\n",
        "        # pitch scaling...\n",
        "        # range -5 to 12\n",
        "        start_range = -2\n",
        "        end_range = 9\n",
        "        increment = .2\n",
        "    elif int(cmd) == 2:\n",
        "        # time stretching...\n",
        "        # range .5 to 1.5\n",
        "        start_range = .2\n",
        "        end_range = 1.2\n",
        "        increment = .05\n",
        "    elif int(cmd) == 3:\n",
        "        start_range = .04\n",
        "        end_range = .2\n",
        "        increment = .05\n",
        "    elif int(cmd) == 4:\n",
        "        start_range = 00\n",
        "        end_range = 00\n",
        "        increment = 00\n",
        "\n",
        "\n",
        "    for root, dirs, files in os.walk(source_dir):\n",
        "\n",
        "        # print(\"root  \",root)\n",
        "        for dir in dirs:\n",
        "            folder_path = os.path.join(destination_dir, dir)\n",
        "            os.makedirs(folder_path, exist_ok=True)\n",
        "        for file_name in files:\n",
        "            source_file_path = os.path.join(root, file_name)\n",
        "            destination_folder_path = os.path.join(destination_dir, os.path.basename(root))\n",
        "            start_augmenation(\n",
        "                cmd, source_file_path,destination_folder_path,\n",
        "                start_range, end_range, increment, os.path.basename(root)\n",
        "                )\n",
        "            # destination_file_path = os.path.join(destination_folder_path, f\"{str(uuid.uuid4())}.wav\")\n",
        "            # shutil.move(source_file_path, destination_file_path)\n",
        "\n",
        "\n",
        "\n"
      ],
      "metadata": {
        "id": "0OAGps-T87Li"
      },
      "execution_count": null,
      "outputs": []
    }
  ]
}