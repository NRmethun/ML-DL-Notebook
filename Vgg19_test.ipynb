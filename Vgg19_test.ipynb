{
  "nbformat": 4,
  "nbformat_minor": 0,
  "metadata": {
    "colab": {
      "provenance": [],
      "mount_file_id": "10nTyd0pm-CyBtvKpGUm8DRHrQkCZ7wrF",
      "authorship_tag": "ABX9TyMFcfcZsxF7XuvkrGN97z7l",
      "include_colab_link": true
    },
    "kernelspec": {
      "name": "python3",
      "display_name": "Python 3"
    }
  },
  "cells": [
    {
      "cell_type": "markdown",
      "metadata": {
        "id": "view-in-github",
        "colab_type": "text"
      },
      "source": [
        "<a href=\"https://colab.research.google.com/github/NRmethun/ML-DL-Notebook/blob/main/Vgg19_test.ipynb\" target=\"_parent\"><img src=\"https://colab.research.google.com/assets/colab-badge.svg\" alt=\"Open In Colab\"/></a>"
      ]
    },
    {
      "cell_type": "code",
      "metadata": {
        "id": "k3uaoAyGoQoR"
      },
      "source": [
        "from tensorflow.keras.layers import Input, Lambda, Dense, Flatten,Conv2D ,Dropout\n",
        "from tensorflow.keras.models import Model\n",
        "from tensorflow.keras.applications.vgg19 import VGG19\n",
        "from tensorflow.keras.applications.resnet50 import preprocess_input\n",
        "from tensorflow.keras.preprocessing import image\n",
        "from tensorflow.keras.preprocessing.image import ImageDataGenerator,load_img\n",
        "from tensorflow.keras.models import Sequential\n",
        "import numpy as np\n",
        "from glob import glob\n",
        "import matplotlib.pyplot as plt"
      ],
      "execution_count": null,
      "outputs": []
    },
    {
      "cell_type": "code",
      "metadata": {
        "id": "d5-UOaFQoWSu"
      },
      "source": [
        "\n",
        "IMAGE_SIZE =[150,150]\n",
        "train_dir = '/content/drive/My Drive/New_carrot/Train'\n",
        "validation_dir  ='/content/drive/My Drive/New_carrot/Validate'"
      ],
      "execution_count": null,
      "outputs": []
    },
    {
      "cell_type": "code",
      "metadata": {
        "id": "KoO4-C-kojvf"
      },
      "source": [
        "mobilnet = VGG19(input_shape=(150, 150, 3),\n",
        "                 weights='imagenet',\n",
        "                 #weights=None ,\n",
        "                 include_top=False)\n",
        "\n",
        "\n",
        "\n",
        "for layer in mobilnet.layers:\n",
        "  layer.trainable = False"
      ],
      "execution_count": null,
      "outputs": []
    },
    {
      "cell_type": "code",
      "metadata": {
        "id": "GD56eQAapVHc"
      },
      "source": [
        "last_output = mobilnet.output"
      ],
      "execution_count": null,
      "outputs": []
    },
    {
      "cell_type": "code",
      "metadata": {
        "id": "jiaoxfbOqLaA"
      },
      "source": [
        "from tensorflow.keras.optimizers import RMSprop\n",
        "\n",
        "# Flatten the output layer to 1 dimension\n",
        "x = Flatten()(last_output)\n",
        "# Add a fully connected layer with 1,024 hidden units and ReLU activation\n",
        "x = Dense(1024, activation='relu')(x)\n",
        "# Add a dropout rate of 0.2\n",
        "x = Dropout(0.2)(x)\n",
        "# Add a final sigmoid layer for classification\n",
        "x = Dense  (4, activation='softmax')(x)\n",
        "\n",
        "model = Model( mobilnet.input, x)\n",
        "\n",
        "model.compile(optimizer = RMSprop(lr=0.0001),\n",
        "              loss = 'categorical_crossentropy',\n",
        "              metrics = ['accuracy'])"
      ],
      "execution_count": null,
      "outputs": []
    },
    {
      "cell_type": "code",
      "metadata": {
        "id": "cNMkmeMWqQCC"
      },
      "source": [
        "train_dir = '/content/drive/My Drive/New_carrot/Train'\n",
        "validation_dir  ='/content/drive/My Drive/New_carrot/Validate'\n",
        "\n",
        "from tensorflow.keras.preprocessing.image import ImageDataGenerator\n",
        "\n",
        "import os"
      ],
      "execution_count": null,
      "outputs": []
    },
    {
      "cell_type": "code",
      "metadata": {
        "id": "i-IStWSxrIsl"
      },
      "source": [
        "train_datagen = ImageDataGenerator(rescale = 1./255.,\n",
        "                                   rotation_range = 40,\n",
        "                                   width_shift_range = 0.2,\n",
        "                                   height_shift_range = 0.2,\n",
        "                                   shear_range = 0.2,\n",
        "\n",
        "                                   horizontal_flip = True)\n",
        "\n",
        "test_datagen = ImageDataGenerator( rescale = 1.0/255. )"
      ],
      "execution_count": null,
      "outputs": []
    },
    {
      "cell_type": "code",
      "metadata": {
        "id": "ptN601oorMtv",
        "colab": {
          "base_uri": "https://localhost:8080/",
          "height": 53
        },
        "outputId": "4106cf92-fcce-40e5-8697-5187a3eedf27"
      },
      "source": [
        "train_generator = train_datagen.flow_from_directory(train_dir,\n",
        "                                                    batch_size = 20,\n",
        "                                                    class_mode = 'categorical',\n",
        "                                                    target_size = (150, 150))\n",
        "\n",
        "# Flow validation images in batches of 20 using test_datagen generator\n",
        "validation_generator =  test_datagen.flow_from_directory( validation_dir,\n",
        "                                                          batch_size  = 20,\n",
        "                                                          class_mode  = 'categorical',\n",
        "                                                          target_size = (150, 150) )"
      ],
      "execution_count": null,
      "outputs": [
        {
          "output_type": "stream",
          "text": [
            "Found 320 images belonging to 4 classes.\n",
            "Found 80 images belonging to 4 classes.\n"
          ],
          "name": "stdout"
        }
      ]
    },
    {
      "cell_type": "code",
      "metadata": {
        "id": "IyjHVm-prPwH",
        "colab": {
          "base_uri": "https://localhost:8080/",
          "height": 1000
        },
        "outputId": "14286f61-4322-4f9f-abc9-10fc08a0a54a"
      },
      "source": [
        "history = model.fit(\n",
        "            train_generator,\n",
        "            validation_data = validation_generator,\n",
        "            steps_per_epoch = len(train_generator),\n",
        "            epochs = 50,\n",
        "            validation_steps = len(validation_generator),\n",
        "            verbose = 2)"
      ],
      "execution_count": null,
      "outputs": [
        {
          "output_type": "stream",
          "text": [
            "Epoch 1/50\n",
            "16/16 - 177s - loss: 1.7765 - accuracy: 0.3219 - val_loss: 1.0118 - val_accuracy: 0.5750\n",
            "Epoch 2/50\n",
            "16/16 - 111s - loss: 1.0910 - accuracy: 0.5469 - val_loss: 0.7927 - val_accuracy: 0.6625\n",
            "Epoch 3/50\n",
            "16/16 - 108s - loss: 1.0159 - accuracy: 0.5875 - val_loss: 1.0388 - val_accuracy: 0.6125\n",
            "Epoch 4/50\n",
            "16/16 - 108s - loss: 0.8871 - accuracy: 0.6313 - val_loss: 0.6499 - val_accuracy: 0.8000\n",
            "Epoch 5/50\n",
            "16/16 - 108s - loss: 0.9207 - accuracy: 0.6281 - val_loss: 0.7018 - val_accuracy: 0.8125\n",
            "Epoch 6/50\n",
            "16/16 - 108s - loss: 0.8538 - accuracy: 0.6375 - val_loss: 0.7604 - val_accuracy: 0.6625\n",
            "Epoch 7/50\n",
            "16/16 - 112s - loss: 0.7106 - accuracy: 0.7031 - val_loss: 0.6837 - val_accuracy: 0.7500\n",
            "Epoch 8/50\n",
            "16/16 - 108s - loss: 0.6648 - accuracy: 0.7281 - val_loss: 0.6091 - val_accuracy: 0.7375\n",
            "Epoch 9/50\n",
            "16/16 - 108s - loss: 0.6609 - accuracy: 0.7469 - val_loss: 0.4952 - val_accuracy: 0.8375\n",
            "Epoch 10/50\n",
            "16/16 - 108s - loss: 0.6192 - accuracy: 0.7531 - val_loss: 0.5395 - val_accuracy: 0.8000\n",
            "Epoch 11/50\n",
            "16/16 - 108s - loss: 0.6415 - accuracy: 0.7406 - val_loss: 0.7518 - val_accuracy: 0.7375\n",
            "Epoch 12/50\n",
            "16/16 - 111s - loss: 0.5206 - accuracy: 0.7906 - val_loss: 0.4977 - val_accuracy: 0.8375\n",
            "Epoch 13/50\n",
            "16/16 - 108s - loss: 0.5494 - accuracy: 0.7656 - val_loss: 0.4868 - val_accuracy: 0.8125\n",
            "Epoch 14/50\n",
            "16/16 - 107s - loss: 0.5387 - accuracy: 0.8031 - val_loss: 0.4835 - val_accuracy: 0.8250\n",
            "Epoch 15/50\n",
            "16/16 - 107s - loss: 0.4929 - accuracy: 0.8094 - val_loss: 0.4501 - val_accuracy: 0.8375\n",
            "Epoch 16/50\n",
            "16/16 - 107s - loss: 0.4611 - accuracy: 0.8000 - val_loss: 0.3992 - val_accuracy: 0.8625\n",
            "Epoch 17/50\n",
            "16/16 - 107s - loss: 0.4677 - accuracy: 0.8375 - val_loss: 0.5934 - val_accuracy: 0.7500\n",
            "Epoch 18/50\n",
            "16/16 - 111s - loss: 0.4602 - accuracy: 0.8000 - val_loss: 0.6011 - val_accuracy: 0.7500\n",
            "Epoch 19/50\n",
            "16/16 - 107s - loss: 0.5218 - accuracy: 0.8188 - val_loss: 0.4062 - val_accuracy: 0.8625\n",
            "Epoch 20/50\n",
            "16/16 - 106s - loss: 0.4314 - accuracy: 0.8313 - val_loss: 0.4887 - val_accuracy: 0.7875\n",
            "Epoch 21/50\n",
            "16/16 - 106s - loss: 0.4455 - accuracy: 0.8313 - val_loss: 0.4077 - val_accuracy: 0.8500\n",
            "Epoch 22/50\n",
            "16/16 - 107s - loss: 0.4297 - accuracy: 0.8250 - val_loss: 0.4058 - val_accuracy: 0.8625\n",
            "Epoch 23/50\n",
            "16/16 - 111s - loss: 0.3615 - accuracy: 0.8531 - val_loss: 0.6567 - val_accuracy: 0.7750\n",
            "Epoch 24/50\n",
            "16/16 - 107s - loss: 0.3621 - accuracy: 0.8687 - val_loss: 0.4682 - val_accuracy: 0.8500\n",
            "Epoch 25/50\n",
            "16/16 - 106s - loss: 0.4129 - accuracy: 0.8375 - val_loss: 0.4413 - val_accuracy: 0.8375\n",
            "Epoch 26/50\n",
            "16/16 - 106s - loss: 0.3389 - accuracy: 0.8719 - val_loss: 0.4251 - val_accuracy: 0.8625\n",
            "Epoch 27/50\n",
            "16/16 - 106s - loss: 0.3832 - accuracy: 0.8594 - val_loss: 0.6501 - val_accuracy: 0.7250\n",
            "Epoch 28/50\n",
            "16/16 - 110s - loss: 0.3882 - accuracy: 0.8594 - val_loss: 0.5261 - val_accuracy: 0.8250\n",
            "Epoch 29/50\n",
            "16/16 - 106s - loss: 0.3182 - accuracy: 0.8813 - val_loss: 0.4745 - val_accuracy: 0.8125\n",
            "Epoch 30/50\n",
            "16/16 - 106s - loss: 0.3240 - accuracy: 0.8656 - val_loss: 0.4642 - val_accuracy: 0.8625\n",
            "Epoch 31/50\n",
            "16/16 - 106s - loss: 0.3544 - accuracy: 0.8781 - val_loss: 0.4723 - val_accuracy: 0.8500\n",
            "Epoch 32/50\n",
            "16/16 - 106s - loss: 0.3553 - accuracy: 0.8781 - val_loss: 0.4248 - val_accuracy: 0.8500\n",
            "Epoch 33/50\n",
            "16/16 - 106s - loss: 0.2587 - accuracy: 0.9219 - val_loss: 0.4883 - val_accuracy: 0.8125\n",
            "Epoch 34/50\n",
            "16/16 - 110s - loss: 0.3247 - accuracy: 0.8719 - val_loss: 0.4531 - val_accuracy: 0.8500\n",
            "Epoch 35/50\n",
            "16/16 - 106s - loss: 0.3324 - accuracy: 0.8656 - val_loss: 0.6433 - val_accuracy: 0.7875\n",
            "Epoch 36/50\n",
            "16/16 - 106s - loss: 0.3297 - accuracy: 0.8781 - val_loss: 0.4703 - val_accuracy: 0.8250\n",
            "Epoch 37/50\n",
            "16/16 - 106s - loss: 0.3056 - accuracy: 0.9000 - val_loss: 0.4293 - val_accuracy: 0.8500\n",
            "Epoch 38/50\n",
            "16/16 - 106s - loss: 0.2328 - accuracy: 0.9219 - val_loss: 0.4972 - val_accuracy: 0.8375\n",
            "Epoch 39/50\n",
            "16/16 - 110s - loss: 0.2269 - accuracy: 0.9094 - val_loss: 0.4057 - val_accuracy: 0.8375\n",
            "Epoch 40/50\n",
            "16/16 - 106s - loss: 0.2922 - accuracy: 0.8906 - val_loss: 0.3591 - val_accuracy: 0.8875\n",
            "Epoch 41/50\n",
            "16/16 - 106s - loss: 0.2843 - accuracy: 0.8938 - val_loss: 0.5160 - val_accuracy: 0.8000\n",
            "Epoch 42/50\n",
            "16/16 - 106s - loss: 0.2499 - accuracy: 0.9156 - val_loss: 0.3982 - val_accuracy: 0.8500\n",
            "Epoch 43/50\n",
            "16/16 - 106s - loss: 0.2502 - accuracy: 0.9062 - val_loss: 0.5028 - val_accuracy: 0.8000\n",
            "Epoch 44/50\n",
            "16/16 - 106s - loss: 0.2539 - accuracy: 0.9062 - val_loss: 0.7312 - val_accuracy: 0.8000\n",
            "Epoch 45/50\n",
            "16/16 - 110s - loss: 0.2419 - accuracy: 0.9156 - val_loss: 0.5583 - val_accuracy: 0.8125\n",
            "Epoch 46/50\n",
            "16/16 - 106s - loss: 0.2430 - accuracy: 0.9000 - val_loss: 0.7054 - val_accuracy: 0.7750\n",
            "Epoch 47/50\n",
            "16/16 - 106s - loss: 0.2279 - accuracy: 0.9187 - val_loss: 0.5290 - val_accuracy: 0.8000\n",
            "Epoch 48/50\n",
            "16/16 - 106s - loss: 0.2050 - accuracy: 0.9187 - val_loss: 0.5373 - val_accuracy: 0.8375\n",
            "Epoch 49/50\n",
            "16/16 - 106s - loss: 0.2177 - accuracy: 0.9344 - val_loss: 0.4107 - val_accuracy: 0.8625\n",
            "Epoch 50/50\n",
            "16/16 - 112s - loss: 0.1627 - accuracy: 0.9531 - val_loss: 0.4412 - val_accuracy: 0.8125\n"
          ],
          "name": "stdout"
        }
      ]
    },
    {
      "cell_type": "code",
      "metadata": {
        "id": "jPfjTbHYsKOF",
        "colab": {
          "base_uri": "https://localhost:8080/",
          "height": 563
        },
        "outputId": "a11a3c24-33b4-4e66-e330-d8ebe20f1b59"
      },
      "source": [
        "import matplotlib.pyplot as plt\n",
        "acc = history.history['accuracy']\n",
        "val_acc = history.history['val_accuracy']\n",
        "loss = history.history['loss']\n",
        "val_loss = history.history['val_loss']\n",
        "\n",
        "epochs = range(len(acc))\n",
        "\n",
        "plt.plot(epochs, acc, 'r', label='Training accuracy')\n",
        "plt.plot(epochs, val_acc, 'b', label='Validation accuracy')\n",
        "plt.title('Training and validation accuracy')\n",
        "plt.legend(loc=0)\n",
        "plt.figure()\n",
        "\n",
        "plt.plot(epochs, loss, 'r', label='Training Loss')\n",
        "plt.plot(epochs, val_loss, 'b', label='Validation Loss')\n",
        "plt.title('Training and validation Loss')\n",
        "plt.legend(loc=0)\n",
        "plt.figure()\n",
        "\n",
        "\n",
        "plt.show()"
      ],
      "execution_count": null,
      "outputs": [
        {
          "output_type": "display_data",
          "data": {
            "image/png": "[encoded data removed]",
            "text/plain": [
              "<Figure size 432x288 with 1 Axes>"
            ]
          },
          "metadata": {
            "tags": [],
            "needs_background": "light"
          }
        },
        {
          "output_type": "display_data",
          "data": {
            "image/png": "[encoded data removed]",
            "text/plain": [
              "<Figure size 432x288 with 1 Axes>"
            ]
          },
          "metadata": {
            "tags": [],
            "needs_background": "light"
          }
        },
        {
          "output_type": "display_data",
          "data": {
            "text/plain": [
              "<Figure size 432x288 with 0 Axes>"
            ]
          },
          "metadata": {
            "tags": []
          }
        }
      ]
    },
    {
      "cell_type": "code",
      "metadata": {
        "id": "KU9w3Eb3KIo_"
      },
      "source": [],
      "execution_count": null,
      "outputs": []
    }
  ]
}